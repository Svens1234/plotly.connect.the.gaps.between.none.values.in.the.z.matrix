{
 "cells": [
  {
   "cell_type": "code",
   "execution_count": 1,
   "id": "d8f24484",
   "metadata": {},
   "outputs": [],
   "source": [
    "import plotly.graph_objs as go\n",
    "from plotly.subplots import make_subplots"
   ]
  },
  {
   "cell_type": "code",
   "execution_count": 2,
   "id": "f9718c94",
   "metadata": {},
   "outputs": [],
   "source": [
    "fig = make_subplots(rows=2, cols=2, subplot_titles=('connectgaps = False',\n",
    "                                                        'connectgaps = True'))"
   ]
  },
  {
   "cell_type": "code",
   "execution_count": 3,
   "id": "14041808",
   "metadata": {},
   "outputs": [],
   "source": [
    "z = [[None, None, None, 12, 13, 14, 15, 16],\n",
    "     [None, 1, None, 11, None, None, None, 17],\n",
    "     [None, 2, 6, 7, None, None, None, 18],\n",
    "     [None, 3, None, 8, None, None, None, 19],\n",
    "     [5, 4, 10, 9, None, None, None, 20],\n",
    "     [None, None, None, 27, None, None, None, 21],\n",
    "     [None, None, None, 26, 25, 24, 23, 22]]"
   ]
  },
  {
   "cell_type": "code",
   "execution_count": 12,
   "id": "3efb4573",
   "metadata": {},
   "outputs": [
    {
     "data": {
      "application/vnd.plotly.v1+json": {
       "config": {
        "plotlyServerURL": "https://plot.ly"
       },
       "data": [
        {
         "showscale": false,
         "type": "contour",
         "xaxis": "x",
         "yaxis": "y",
         "z": [
          [
           null,
           null,
           null,
           12,
           13,
           14,
           15,
           16
          ],
          [
           null,
           1,
           null,
           11,
           null,
           null,
           null,
           17
          ],
          [
           null,
           2,
           6,
           7,
           null,
           null,
           null,
           18
          ],
          [
           null,
           3,
           null,
           8,
           null,
           null,
           null,
           19
          ],
          [
           5,
           4,
           10,
           9,
           null,
           null,
           null,
           20
          ],
          [
           null,
           null,
           null,
           27,
           null,
           null,
           null,
           21
          ],
          [
           null,
           null,
           null,
           26,
           25,
           24,
           23,
           22
          ]
         ]
        },
        {
         "connectgaps": true,
         "showscale": false,
         "type": "contour",
         "xaxis": "x2",
         "yaxis": "y2",
         "z": [
          [
           null,
           null,
           null,
           12,
           13,
           14,
           15,
           16
          ],
          [
           null,
           1,
           null,
           11,
           null,
           null,
           null,
           17
          ],
          [
           null,
           2,
           6,
           7,
           null,
           null,
           null,
           18
          ],
          [
           null,
           3,
           null,
           8,
           null,
           null,
           null,
           19
          ],
          [
           5,
           4,
           10,
           9,
           null,
           null,
           null,
           20
          ],
          [
           null,
           null,
           null,
           27,
           null,
           null,
           null,
           21
          ],
          [
           null,
           null,
           null,
           26,
           25,
           24,
           23,
           22
          ]
         ]
        },
        {
         "showscale": false,
         "type": "heatmap",
         "xaxis": "x3",
         "yaxis": "y3",
         "z": [
          [
           null,
           null,
           null,
           12,
           13,
           14,
           15,
           16
          ],
          [
           null,
           1,
           null,
           11,
           null,
           null,
           null,
           17
          ],
          [
           null,
           2,
           6,
           7,
           null,
           null,
           null,
           18
          ],
          [
           null,
           3,
           null,
           8,
           null,
           null,
           null,
           19
          ],
          [
           5,
           4,
           10,
           9,
           null,
           null,
           null,
           20
          ],
          [
           null,
           null,
           null,
           27,
           null,
           null,
           null,
           21
          ],
          [
           null,
           null,
           null,
           26,
           25,
           24,
           23,
           22
          ]
         ],
         "zsmooth": "best"
        },
        {
         "connectgaps": true,
         "showscale": false,
         "type": "heatmap",
         "xaxis": "x4",
         "yaxis": "y4",
         "z": [
          [
           null,
           null,
           null,
           12,
           13,
           14,
           15,
           16
          ],
          [
           null,
           1,
           null,
           11,
           null,
           null,
           null,
           17
          ],
          [
           null,
           2,
           6,
           7,
           null,
           null,
           null,
           18
          ],
          [
           null,
           3,
           null,
           8,
           null,
           null,
           null,
           19
          ],
          [
           5,
           4,
           10,
           9,
           null,
           null,
           null,
           20
          ],
          [
           null,
           null,
           null,
           27,
           null,
           null,
           null,
           21
          ],
          [
           null,
           null,
           null,
           26,
           25,
           24,
           23,
           22
          ]
         ],
         "zsmooth": "best"
        },
        {
         "showscale": false,
         "type": "contour",
         "xaxis": "x",
         "yaxis": "y",
         "z": [
          [
           null,
           null,
           null,
           12,
           13,
           14,
           15,
           16
          ],
          [
           null,
           1,
           null,
           11,
           null,
           null,
           null,
           17
          ],
          [
           null,
           2,
           6,
           7,
           null,
           null,
           null,
           18
          ],
          [
           null,
           3,
           null,
           8,
           null,
           null,
           null,
           19
          ],
          [
           5,
           4,
           10,
           9,
           null,
           null,
           null,
           20
          ],
          [
           null,
           null,
           null,
           27,
           null,
           null,
           null,
           21
          ],
          [
           null,
           null,
           null,
           26,
           25,
           24,
           23,
           22
          ]
         ]
        },
        {
         "connectgaps": true,
         "showscale": false,
         "type": "contour",
         "xaxis": "x2",
         "yaxis": "y2",
         "z": [
          [
           null,
           null,
           null,
           12,
           13,
           14,
           15,
           16
          ],
          [
           null,
           1,
           null,
           11,
           null,
           null,
           null,
           17
          ],
          [
           null,
           2,
           6,
           7,
           null,
           null,
           null,
           18
          ],
          [
           null,
           3,
           null,
           8,
           null,
           null,
           null,
           19
          ],
          [
           5,
           4,
           10,
           9,
           null,
           null,
           null,
           20
          ],
          [
           null,
           null,
           null,
           27,
           null,
           null,
           null,
           21
          ],
          [
           null,
           null,
           null,
           26,
           25,
           24,
           23,
           22
          ]
         ]
        },
        {
         "showscale": false,
         "type": "heatmap",
         "xaxis": "x3",
         "yaxis": "y3",
         "z": [
          [
           null,
           null,
           null,
           12,
           13,
           14,
           15,
           16
          ],
          [
           null,
           1,
           null,
           11,
           null,
           null,
           null,
           17
          ],
          [
           null,
           2,
           6,
           7,
           null,
           null,
           null,
           18
          ],
          [
           null,
           3,
           null,
           8,
           null,
           null,
           null,
           19
          ],
          [
           5,
           4,
           10,
           9,
           null,
           null,
           null,
           20
          ],
          [
           null,
           null,
           null,
           27,
           null,
           null,
           null,
           21
          ],
          [
           null,
           null,
           null,
           26,
           25,
           24,
           23,
           22
          ]
         ],
         "zsmooth": "best"
        },
        {
         "connectgaps": true,
         "showscale": false,
         "type": "heatmap",
         "xaxis": "x4",
         "yaxis": "y4",
         "z": [
          [
           null,
           null,
           null,
           12,
           13,
           14,
           15,
           16
          ],
          [
           null,
           1,
           null,
           11,
           null,
           null,
           null,
           17
          ],
          [
           null,
           2,
           6,
           7,
           null,
           null,
           null,
           18
          ],
          [
           null,
           3,
           null,
           8,
           null,
           null,
           null,
           19
          ],
          [
           5,
           4,
           10,
           9,
           null,
           null,
           null,
           20
          ],
          [
           null,
           null,
           null,
           27,
           null,
           null,
           null,
           21
          ],
          [
           null,
           null,
           null,
           26,
           25,
           24,
           23,
           22
          ]
         ],
         "zsmooth": "best"
        },
        {
         "showscale": false,
         "type": "contour",
         "xaxis": "x",
         "yaxis": "y",
         "z": [
          [
           null,
           null,
           null,
           12,
           13,
           14,
           15,
           16
          ],
          [
           null,
           1,
           null,
           11,
           null,
           null,
           null,
           17
          ],
          [
           null,
           2,
           6,
           7,
           null,
           null,
           null,
           18
          ],
          [
           null,
           3,
           null,
           8,
           null,
           null,
           null,
           19
          ],
          [
           5,
           4,
           10,
           9,
           null,
           null,
           null,
           20
          ],
          [
           null,
           null,
           null,
           27,
           null,
           null,
           null,
           21
          ],
          [
           null,
           null,
           null,
           26,
           25,
           24,
           23,
           22
          ]
         ]
        },
        {
         "connectgaps": true,
         "showscale": false,
         "type": "contour",
         "xaxis": "x2",
         "yaxis": "y2",
         "z": [
          [
           null,
           null,
           null,
           12,
           13,
           14,
           15,
           16
          ],
          [
           null,
           1,
           null,
           11,
           null,
           null,
           null,
           17
          ],
          [
           null,
           2,
           6,
           7,
           null,
           null,
           null,
           18
          ],
          [
           null,
           3,
           null,
           8,
           null,
           null,
           null,
           19
          ],
          [
           5,
           4,
           10,
           9,
           null,
           null,
           null,
           20
          ],
          [
           null,
           null,
           null,
           27,
           null,
           null,
           null,
           21
          ],
          [
           null,
           null,
           null,
           26,
           25,
           24,
           23,
           22
          ]
         ]
        },
        {
         "showscale": false,
         "type": "heatmap",
         "xaxis": "x3",
         "yaxis": "y3",
         "z": [
          [
           null,
           null,
           null,
           12,
           13,
           14,
           15,
           16
          ],
          [
           null,
           1,
           null,
           11,
           null,
           null,
           null,
           17
          ],
          [
           null,
           2,
           6,
           7,
           null,
           null,
           null,
           18
          ],
          [
           null,
           3,
           null,
           8,
           null,
           null,
           null,
           19
          ],
          [
           5,
           4,
           10,
           9,
           null,
           null,
           null,
           20
          ],
          [
           null,
           null,
           null,
           27,
           null,
           null,
           null,
           21
          ],
          [
           null,
           null,
           null,
           26,
           25,
           24,
           23,
           22
          ]
         ],
         "zsmooth": "best"
        },
        {
         "connectgaps": true,
         "showscale": false,
         "type": "heatmap",
         "xaxis": "x4",
         "yaxis": "y4",
         "z": [
          [
           null,
           null,
           null,
           12,
           13,
           14,
           15,
           16
          ],
          [
           null,
           1,
           null,
           11,
           null,
           null,
           null,
           17
          ],
          [
           null,
           2,
           6,
           7,
           null,
           null,
           null,
           18
          ],
          [
           null,
           3,
           null,
           8,
           null,
           null,
           null,
           19
          ],
          [
           5,
           4,
           10,
           9,
           null,
           null,
           null,
           20
          ],
          [
           null,
           null,
           null,
           27,
           null,
           null,
           null,
           21
          ],
          [
           null,
           null,
           null,
           26,
           25,
           24,
           23,
           22
          ]
         ],
         "zsmooth": "best"
        },
        {
         "showscale": true,
         "type": "contour",
         "xaxis": "x",
         "yaxis": "y",
         "z": [
          [
           null,
           null,
           null,
           12,
           13,
           14,
           15,
           16
          ],
          [
           null,
           1,
           null,
           11,
           null,
           null,
           null,
           17
          ],
          [
           null,
           2,
           6,
           7,
           null,
           null,
           null,
           18
          ],
          [
           null,
           3,
           null,
           8,
           null,
           null,
           null,
           19
          ],
          [
           5,
           4,
           10,
           9,
           null,
           null,
           null,
           20
          ],
          [
           null,
           null,
           null,
           27,
           null,
           null,
           null,
           21
          ],
          [
           null,
           null,
           null,
           26,
           25,
           24,
           23,
           22
          ]
         ]
        },
        {
         "connectgaps": true,
         "showscale": true,
         "type": "contour",
         "xaxis": "x2",
         "yaxis": "y2",
         "z": [
          [
           null,
           null,
           null,
           12,
           13,
           14,
           15,
           16
          ],
          [
           null,
           1,
           null,
           11,
           null,
           null,
           null,
           17
          ],
          [
           null,
           2,
           6,
           7,
           null,
           null,
           null,
           18
          ],
          [
           null,
           3,
           null,
           8,
           null,
           null,
           null,
           19
          ],
          [
           5,
           4,
           10,
           9,
           null,
           null,
           null,
           20
          ],
          [
           null,
           null,
           null,
           27,
           null,
           null,
           null,
           21
          ],
          [
           null,
           null,
           null,
           26,
           25,
           24,
           23,
           22
          ]
         ]
        },
        {
         "showscale": true,
         "type": "heatmap",
         "xaxis": "x3",
         "yaxis": "y3",
         "z": [
          [
           null,
           null,
           null,
           12,
           13,
           14,
           15,
           16
          ],
          [
           null,
           1,
           null,
           11,
           null,
           null,
           null,
           17
          ],
          [
           null,
           2,
           6,
           7,
           null,
           null,
           null,
           18
          ],
          [
           null,
           3,
           null,
           8,
           null,
           null,
           null,
           19
          ],
          [
           5,
           4,
           10,
           9,
           null,
           null,
           null,
           20
          ],
          [
           null,
           null,
           null,
           27,
           null,
           null,
           null,
           21
          ],
          [
           null,
           null,
           null,
           26,
           25,
           24,
           23,
           22
          ]
         ],
         "zsmooth": "best"
        },
        {
         "connectgaps": true,
         "showscale": true,
         "type": "heatmap",
         "xaxis": "x4",
         "yaxis": "y4",
         "z": [
          [
           null,
           null,
           null,
           12,
           13,
           14,
           15,
           16
          ],
          [
           null,
           1,
           null,
           11,
           null,
           null,
           null,
           17
          ],
          [
           null,
           2,
           6,
           7,
           null,
           null,
           null,
           18
          ],
          [
           null,
           3,
           null,
           8,
           null,
           null,
           null,
           19
          ],
          [
           5,
           4,
           10,
           9,
           null,
           null,
           null,
           20
          ],
          [
           null,
           null,
           null,
           27,
           null,
           null,
           null,
           21
          ],
          [
           null,
           null,
           null,
           26,
           25,
           24,
           23,
           22
          ]
         ],
         "zsmooth": "best"
        },
        {
         "showscale": false,
         "type": "contour",
         "xaxis": "x",
         "yaxis": "y",
         "z": [
          [
           null,
           null,
           null,
           12,
           13,
           14,
           15,
           16
          ],
          [
           null,
           1,
           null,
           11,
           null,
           null,
           null,
           17
          ],
          [
           null,
           2,
           6,
           7,
           null,
           null,
           null,
           18
          ],
          [
           null,
           3,
           null,
           8,
           null,
           null,
           null,
           19
          ],
          [
           5,
           4,
           10,
           9,
           null,
           null,
           null,
           20
          ],
          [
           null,
           null,
           null,
           27,
           null,
           null,
           null,
           21
          ],
          [
           null,
           null,
           null,
           26,
           25,
           24,
           23,
           22
          ]
         ]
        },
        {
         "connectgaps": true,
         "showscale": false,
         "type": "contour",
         "xaxis": "x2",
         "yaxis": "y2",
         "z": [
          [
           null,
           null,
           null,
           12,
           13,
           14,
           15,
           16
          ],
          [
           null,
           1,
           null,
           11,
           null,
           null,
           null,
           17
          ],
          [
           null,
           2,
           6,
           7,
           null,
           null,
           null,
           18
          ],
          [
           null,
           3,
           null,
           8,
           null,
           null,
           null,
           19
          ],
          [
           5,
           4,
           10,
           9,
           null,
           null,
           null,
           20
          ],
          [
           null,
           null,
           null,
           27,
           null,
           null,
           null,
           21
          ],
          [
           null,
           null,
           null,
           26,
           25,
           24,
           23,
           22
          ]
         ]
        },
        {
         "showscale": false,
         "type": "heatmap",
         "xaxis": "x3",
         "yaxis": "y3",
         "z": [
          [
           null,
           null,
           null,
           12,
           13,
           14,
           15,
           16
          ],
          [
           null,
           1,
           null,
           11,
           null,
           null,
           null,
           17
          ],
          [
           null,
           2,
           6,
           7,
           null,
           null,
           null,
           18
          ],
          [
           null,
           3,
           null,
           8,
           null,
           null,
           null,
           19
          ],
          [
           5,
           4,
           10,
           9,
           null,
           null,
           null,
           20
          ],
          [
           null,
           null,
           null,
           27,
           null,
           null,
           null,
           21
          ],
          [
           null,
           null,
           null,
           26,
           25,
           24,
           23,
           22
          ]
         ],
         "zsmooth": "best"
        },
        {
         "connectgaps": true,
         "showscale": false,
         "type": "heatmap",
         "xaxis": "x4",
         "yaxis": "y4",
         "z": [
          [
           null,
           null,
           null,
           12,
           13,
           14,
           15,
           16
          ],
          [
           null,
           1,
           null,
           11,
           null,
           null,
           null,
           17
          ],
          [
           null,
           2,
           6,
           7,
           null,
           null,
           null,
           18
          ],
          [
           null,
           3,
           null,
           8,
           null,
           null,
           null,
           19
          ],
          [
           5,
           4,
           10,
           9,
           null,
           null,
           null,
           20
          ],
          [
           null,
           null,
           null,
           27,
           null,
           null,
           null,
           21
          ],
          [
           null,
           null,
           null,
           26,
           25,
           24,
           23,
           22
          ]
         ],
         "zsmooth": "best"
        }
       ],
       "layout": {
        "annotations": [
         {
          "font": {
           "size": 16
          },
          "showarrow": false,
          "text": "connectgaps = False",
          "x": 0.225,
          "xanchor": "center",
          "xref": "paper",
          "y": 1,
          "yanchor": "bottom",
          "yref": "paper"
         },
         {
          "font": {
           "size": 16
          },
          "showarrow": false,
          "text": "connectgaps = True",
          "x": 0.775,
          "xanchor": "center",
          "xref": "paper",
          "y": 1,
          "yanchor": "bottom",
          "yref": "paper"
         }
        ],
        "template": {
         "data": {
          "bar": [
           {
            "error_x": {
             "color": "#2a3f5f"
            },
            "error_y": {
             "color": "#2a3f5f"
            },
            "marker": {
             "line": {
              "color": "#E5ECF6",
              "width": 0.5
             },
             "pattern": {
              "fillmode": "overlay",
              "size": 10,
              "solidity": 0.2
             }
            },
            "type": "bar"
           }
          ],
          "barpolar": [
           {
            "marker": {
             "line": {
              "color": "#E5ECF6",
              "width": 0.5
             },
             "pattern": {
              "fillmode": "overlay",
              "size": 10,
              "solidity": 0.2
             }
            },
            "type": "barpolar"
           }
          ],
          "carpet": [
           {
            "aaxis": {
             "endlinecolor": "#2a3f5f",
             "gridcolor": "white",
             "linecolor": "white",
             "minorgridcolor": "white",
             "startlinecolor": "#2a3f5f"
            },
            "baxis": {
             "endlinecolor": "#2a3f5f",
             "gridcolor": "white",
             "linecolor": "white",
             "minorgridcolor": "white",
             "startlinecolor": "#2a3f5f"
            },
            "type": "carpet"
           }
          ],
          "choropleth": [
           {
            "colorbar": {
             "outlinewidth": 0,
             "ticks": ""
            },
            "type": "choropleth"
           }
          ],
          "contour": [
           {
            "colorbar": {
             "outlinewidth": 0,
             "ticks": ""
            },
            "colorscale": [
             [
              0,
              "#0d0887"
             ],
             [
              0.1111111111111111,
              "#46039f"
             ],
             [
              0.2222222222222222,
              "#7201a8"
             ],
             [
              0.3333333333333333,
              "#9c179e"
             ],
             [
              0.4444444444444444,
              "#bd3786"
             ],
             [
              0.5555555555555556,
              "#d8576b"
             ],
             [
              0.6666666666666666,
              "#ed7953"
             ],
             [
              0.7777777777777778,
              "#fb9f3a"
             ],
             [
              0.8888888888888888,
              "#fdca26"
             ],
             [
              1,
              "#f0f921"
             ]
            ],
            "type": "contour"
           }
          ],
          "contourcarpet": [
           {
            "colorbar": {
             "outlinewidth": 0,
             "ticks": ""
            },
            "type": "contourcarpet"
           }
          ],
          "heatmap": [
           {
            "colorbar": {
             "outlinewidth": 0,
             "ticks": ""
            },
            "colorscale": [
             [
              0,
              "#0d0887"
             ],
             [
              0.1111111111111111,
              "#46039f"
             ],
             [
              0.2222222222222222,
              "#7201a8"
             ],
             [
              0.3333333333333333,
              "#9c179e"
             ],
             [
              0.4444444444444444,
              "#bd3786"
             ],
             [
              0.5555555555555556,
              "#d8576b"
             ],
             [
              0.6666666666666666,
              "#ed7953"
             ],
             [
              0.7777777777777778,
              "#fb9f3a"
             ],
             [
              0.8888888888888888,
              "#fdca26"
             ],
             [
              1,
              "#f0f921"
             ]
            ],
            "type": "heatmap"
           }
          ],
          "heatmapgl": [
           {
            "colorbar": {
             "outlinewidth": 0,
             "ticks": ""
            },
            "colorscale": [
             [
              0,
              "#0d0887"
             ],
             [
              0.1111111111111111,
              "#46039f"
             ],
             [
              0.2222222222222222,
              "#7201a8"
             ],
             [
              0.3333333333333333,
              "#9c179e"
             ],
             [
              0.4444444444444444,
              "#bd3786"
             ],
             [
              0.5555555555555556,
              "#d8576b"
             ],
             [
              0.6666666666666666,
              "#ed7953"
             ],
             [
              0.7777777777777778,
              "#fb9f3a"
             ],
             [
              0.8888888888888888,
              "#fdca26"
             ],
             [
              1,
              "#f0f921"
             ]
            ],
            "type": "heatmapgl"
           }
          ],
          "histogram": [
           {
            "marker": {
             "pattern": {
              "fillmode": "overlay",
              "size": 10,
              "solidity": 0.2
             }
            },
            "type": "histogram"
           }
          ],
          "histogram2d": [
           {
            "colorbar": {
             "outlinewidth": 0,
             "ticks": ""
            },
            "colorscale": [
             [
              0,
              "#0d0887"
             ],
             [
              0.1111111111111111,
              "#46039f"
             ],
             [
              0.2222222222222222,
              "#7201a8"
             ],
             [
              0.3333333333333333,
              "#9c179e"
             ],
             [
              0.4444444444444444,
              "#bd3786"
             ],
             [
              0.5555555555555556,
              "#d8576b"
             ],
             [
              0.6666666666666666,
              "#ed7953"
             ],
             [
              0.7777777777777778,
              "#fb9f3a"
             ],
             [
              0.8888888888888888,
              "#fdca26"
             ],
             [
              1,
              "#f0f921"
             ]
            ],
            "type": "histogram2d"
           }
          ],
          "histogram2dcontour": [
           {
            "colorbar": {
             "outlinewidth": 0,
             "ticks": ""
            },
            "colorscale": [
             [
              0,
              "#0d0887"
             ],
             [
              0.1111111111111111,
              "#46039f"
             ],
             [
              0.2222222222222222,
              "#7201a8"
             ],
             [
              0.3333333333333333,
              "#9c179e"
             ],
             [
              0.4444444444444444,
              "#bd3786"
             ],
             [
              0.5555555555555556,
              "#d8576b"
             ],
             [
              0.6666666666666666,
              "#ed7953"
             ],
             [
              0.7777777777777778,
              "#fb9f3a"
             ],
             [
              0.8888888888888888,
              "#fdca26"
             ],
             [
              1,
              "#f0f921"
             ]
            ],
            "type": "histogram2dcontour"
           }
          ],
          "mesh3d": [
           {
            "colorbar": {
             "outlinewidth": 0,
             "ticks": ""
            },
            "type": "mesh3d"
           }
          ],
          "parcoords": [
           {
            "line": {
             "colorbar": {
              "outlinewidth": 0,
              "ticks": ""
             }
            },
            "type": "parcoords"
           }
          ],
          "pie": [
           {
            "automargin": true,
            "type": "pie"
           }
          ],
          "scatter": [
           {
            "fillpattern": {
             "fillmode": "overlay",
             "size": 10,
             "solidity": 0.2
            },
            "type": "scatter"
           }
          ],
          "scatter3d": [
           {
            "line": {
             "colorbar": {
              "outlinewidth": 0,
              "ticks": ""
             }
            },
            "marker": {
             "colorbar": {
              "outlinewidth": 0,
              "ticks": ""
             }
            },
            "type": "scatter3d"
           }
          ],
          "scattercarpet": [
           {
            "marker": {
             "colorbar": {
              "outlinewidth": 0,
              "ticks": ""
             }
            },
            "type": "scattercarpet"
           }
          ],
          "scattergeo": [
           {
            "marker": {
             "colorbar": {
              "outlinewidth": 0,
              "ticks": ""
             }
            },
            "type": "scattergeo"
           }
          ],
          "scattergl": [
           {
            "marker": {
             "colorbar": {
              "outlinewidth": 0,
              "ticks": ""
             }
            },
            "type": "scattergl"
           }
          ],
          "scattermapbox": [
           {
            "marker": {
             "colorbar": {
              "outlinewidth": 0,
              "ticks": ""
             }
            },
            "type": "scattermapbox"
           }
          ],
          "scatterpolar": [
           {
            "marker": {
             "colorbar": {
              "outlinewidth": 0,
              "ticks": ""
             }
            },
            "type": "scatterpolar"
           }
          ],
          "scatterpolargl": [
           {
            "marker": {
             "colorbar": {
              "outlinewidth": 0,
              "ticks": ""
             }
            },
            "type": "scatterpolargl"
           }
          ],
          "scatterternary": [
           {
            "marker": {
             "colorbar": {
              "outlinewidth": 0,
              "ticks": ""
             }
            },
            "type": "scatterternary"
           }
          ],
          "surface": [
           {
            "colorbar": {
             "outlinewidth": 0,
             "ticks": ""
            },
            "colorscale": [
             [
              0,
              "#0d0887"
             ],
             [
              0.1111111111111111,
              "#46039f"
             ],
             [
              0.2222222222222222,
              "#7201a8"
             ],
             [
              0.3333333333333333,
              "#9c179e"
             ],
             [
              0.4444444444444444,
              "#bd3786"
             ],
             [
              0.5555555555555556,
              "#d8576b"
             ],
             [
              0.6666666666666666,
              "#ed7953"
             ],
             [
              0.7777777777777778,
              "#fb9f3a"
             ],
             [
              0.8888888888888888,
              "#fdca26"
             ],
             [
              1,
              "#f0f921"
             ]
            ],
            "type": "surface"
           }
          ],
          "table": [
           {
            "cells": {
             "fill": {
              "color": "#EBF0F8"
             },
             "line": {
              "color": "white"
             }
            },
            "header": {
             "fill": {
              "color": "#C8D4E3"
             },
             "line": {
              "color": "white"
             }
            },
            "type": "table"
           }
          ]
         },
         "layout": {
          "annotationdefaults": {
           "arrowcolor": "#2a3f5f",
           "arrowhead": 0,
           "arrowwidth": 1
          },
          "autotypenumbers": "strict",
          "coloraxis": {
           "colorbar": {
            "outlinewidth": 0,
            "ticks": ""
           }
          },
          "colorscale": {
           "diverging": [
            [
             0,
             "#8e0152"
            ],
            [
             0.1,
             "#c51b7d"
            ],
            [
             0.2,
             "#de77ae"
            ],
            [
             0.3,
             "#f1b6da"
            ],
            [
             0.4,
             "#fde0ef"
            ],
            [
             0.5,
             "#f7f7f7"
            ],
            [
             0.6,
             "#e6f5d0"
            ],
            [
             0.7,
             "#b8e186"
            ],
            [
             0.8,
             "#7fbc41"
            ],
            [
             0.9,
             "#4d9221"
            ],
            [
             1,
             "#276419"
            ]
           ],
           "sequential": [
            [
             0,
             "#0d0887"
            ],
            [
             0.1111111111111111,
             "#46039f"
            ],
            [
             0.2222222222222222,
             "#7201a8"
            ],
            [
             0.3333333333333333,
             "#9c179e"
            ],
            [
             0.4444444444444444,
             "#bd3786"
            ],
            [
             0.5555555555555556,
             "#d8576b"
            ],
            [
             0.6666666666666666,
             "#ed7953"
            ],
            [
             0.7777777777777778,
             "#fb9f3a"
            ],
            [
             0.8888888888888888,
             "#fdca26"
            ],
            [
             1,
             "#f0f921"
            ]
           ],
           "sequentialminus": [
            [
             0,
             "#0d0887"
            ],
            [
             0.1111111111111111,
             "#46039f"
            ],
            [
             0.2222222222222222,
             "#7201a8"
            ],
            [
             0.3333333333333333,
             "#9c179e"
            ],
            [
             0.4444444444444444,
             "#bd3786"
            ],
            [
             0.5555555555555556,
             "#d8576b"
            ],
            [
             0.6666666666666666,
             "#ed7953"
            ],
            [
             0.7777777777777778,
             "#fb9f3a"
            ],
            [
             0.8888888888888888,
             "#fdca26"
            ],
            [
             1,
             "#f0f921"
            ]
           ]
          },
          "colorway": [
           "#636efa",
           "#EF553B",
           "#00cc96",
           "#ab63fa",
           "#FFA15A",
           "#19d3f3",
           "#FF6692",
           "#B6E880",
           "#FF97FF",
           "#FECB52"
          ],
          "font": {
           "color": "#2a3f5f"
          },
          "geo": {
           "bgcolor": "white",
           "lakecolor": "white",
           "landcolor": "#E5ECF6",
           "showlakes": true,
           "showland": true,
           "subunitcolor": "white"
          },
          "hoverlabel": {
           "align": "left"
          },
          "hovermode": "closest",
          "mapbox": {
           "style": "light"
          },
          "paper_bgcolor": "white",
          "plot_bgcolor": "#E5ECF6",
          "polar": {
           "angularaxis": {
            "gridcolor": "white",
            "linecolor": "white",
            "ticks": ""
           },
           "bgcolor": "#E5ECF6",
           "radialaxis": {
            "gridcolor": "white",
            "linecolor": "white",
            "ticks": ""
           }
          },
          "scene": {
           "xaxis": {
            "backgroundcolor": "#E5ECF6",
            "gridcolor": "white",
            "gridwidth": 2,
            "linecolor": "white",
            "showbackground": true,
            "ticks": "",
            "zerolinecolor": "white"
           },
           "yaxis": {
            "backgroundcolor": "#E5ECF6",
            "gridcolor": "white",
            "gridwidth": 2,
            "linecolor": "white",
            "showbackground": true,
            "ticks": "",
            "zerolinecolor": "white"
           },
           "zaxis": {
            "backgroundcolor": "#E5ECF6",
            "gridcolor": "white",
            "gridwidth": 2,
            "linecolor": "white",
            "showbackground": true,
            "ticks": "",
            "zerolinecolor": "white"
           }
          },
          "shapedefaults": {
           "line": {
            "color": "#2a3f5f"
           }
          },
          "ternary": {
           "aaxis": {
            "gridcolor": "white",
            "linecolor": "white",
            "ticks": ""
           },
           "baxis": {
            "gridcolor": "white",
            "linecolor": "white",
            "ticks": ""
           },
           "bgcolor": "#E5ECF6",
           "caxis": {
            "gridcolor": "white",
            "linecolor": "white",
            "ticks": ""
           }
          },
          "title": {
           "x": 0.05
          },
          "xaxis": {
           "automargin": true,
           "gridcolor": "white",
           "linecolor": "white",
           "ticks": "",
           "title": {
            "standoff": 15
           },
           "zerolinecolor": "white",
           "zerolinewidth": 2
          },
          "yaxis": {
           "automargin": true,
           "gridcolor": "white",
           "linecolor": "white",
           "ticks": "",
           "title": {
            "standoff": 15
           },
           "zerolinecolor": "white",
           "zerolinewidth": 2
          }
         }
        },
        "xaxis": {
         "anchor": "y",
         "domain": [
          0,
          0.45
         ]
        },
        "xaxis2": {
         "anchor": "y2",
         "domain": [
          0.55,
          1
         ]
        },
        "xaxis3": {
         "anchor": "y3",
         "domain": [
          0,
          0.45
         ]
        },
        "xaxis4": {
         "anchor": "y4",
         "domain": [
          0.55,
          1
         ]
        },
        "yaxis": {
         "anchor": "x",
         "domain": [
          0.625,
          1
         ],
         "title": {
          "text": "Contour map"
         }
        },
        "yaxis2": {
         "anchor": "x2",
         "domain": [
          0.625,
          1
         ]
        },
        "yaxis3": {
         "anchor": "x3",
         "domain": [
          0,
          0.375
         ],
         "title": {
          "text": "Heatmap"
         }
        },
        "yaxis4": {
         "anchor": "x4",
         "domain": [
          0,
          0.375
         ]
        }
       }
      },
      "text/html": [
       "<div>                            <div id=\"36dd02b0-1c2b-4cb2-b182-48b51fba4b1d\" class=\"plotly-graph-div\" style=\"height:525px; width:100%;\"></div>            <script type=\"text/javascript\">                require([\"plotly\"], function(Plotly) {                    window.PLOTLYENV=window.PLOTLYENV || {};                                    if (document.getElementById(\"36dd02b0-1c2b-4cb2-b182-48b51fba4b1d\")) {                    Plotly.newPlot(                        \"36dd02b0-1c2b-4cb2-b182-48b51fba4b1d\",                        [{\"showscale\":false,\"z\":[[null,null,null,12,13,14,15,16],[null,1,null,11,null,null,null,17],[null,2,6,7,null,null,null,18],[null,3,null,8,null,null,null,19],[5,4,10,9,null,null,null,20],[null,null,null,27,null,null,null,21],[null,null,null,26,25,24,23,22]],\"type\":\"contour\",\"xaxis\":\"x\",\"yaxis\":\"y\"},{\"connectgaps\":true,\"showscale\":false,\"z\":[[null,null,null,12,13,14,15,16],[null,1,null,11,null,null,null,17],[null,2,6,7,null,null,null,18],[null,3,null,8,null,null,null,19],[5,4,10,9,null,null,null,20],[null,null,null,27,null,null,null,21],[null,null,null,26,25,24,23,22]],\"type\":\"contour\",\"xaxis\":\"x2\",\"yaxis\":\"y2\"},{\"showscale\":false,\"z\":[[null,null,null,12,13,14,15,16],[null,1,null,11,null,null,null,17],[null,2,6,7,null,null,null,18],[null,3,null,8,null,null,null,19],[5,4,10,9,null,null,null,20],[null,null,null,27,null,null,null,21],[null,null,null,26,25,24,23,22]],\"zsmooth\":\"best\",\"type\":\"heatmap\",\"xaxis\":\"x3\",\"yaxis\":\"y3\"},{\"connectgaps\":true,\"showscale\":false,\"z\":[[null,null,null,12,13,14,15,16],[null,1,null,11,null,null,null,17],[null,2,6,7,null,null,null,18],[null,3,null,8,null,null,null,19],[5,4,10,9,null,null,null,20],[null,null,null,27,null,null,null,21],[null,null,null,26,25,24,23,22]],\"zsmooth\":\"best\",\"type\":\"heatmap\",\"xaxis\":\"x4\",\"yaxis\":\"y4\"},{\"showscale\":false,\"z\":[[null,null,null,12,13,14,15,16],[null,1,null,11,null,null,null,17],[null,2,6,7,null,null,null,18],[null,3,null,8,null,null,null,19],[5,4,10,9,null,null,null,20],[null,null,null,27,null,null,null,21],[null,null,null,26,25,24,23,22]],\"type\":\"contour\",\"xaxis\":\"x\",\"yaxis\":\"y\"},{\"connectgaps\":true,\"showscale\":false,\"z\":[[null,null,null,12,13,14,15,16],[null,1,null,11,null,null,null,17],[null,2,6,7,null,null,null,18],[null,3,null,8,null,null,null,19],[5,4,10,9,null,null,null,20],[null,null,null,27,null,null,null,21],[null,null,null,26,25,24,23,22]],\"type\":\"contour\",\"xaxis\":\"x2\",\"yaxis\":\"y2\"},{\"showscale\":false,\"z\":[[null,null,null,12,13,14,15,16],[null,1,null,11,null,null,null,17],[null,2,6,7,null,null,null,18],[null,3,null,8,null,null,null,19],[5,4,10,9,null,null,null,20],[null,null,null,27,null,null,null,21],[null,null,null,26,25,24,23,22]],\"zsmooth\":\"best\",\"type\":\"heatmap\",\"xaxis\":\"x3\",\"yaxis\":\"y3\"},{\"connectgaps\":true,\"showscale\":false,\"z\":[[null,null,null,12,13,14,15,16],[null,1,null,11,null,null,null,17],[null,2,6,7,null,null,null,18],[null,3,null,8,null,null,null,19],[5,4,10,9,null,null,null,20],[null,null,null,27,null,null,null,21],[null,null,null,26,25,24,23,22]],\"zsmooth\":\"best\",\"type\":\"heatmap\",\"xaxis\":\"x4\",\"yaxis\":\"y4\"},{\"showscale\":false,\"z\":[[null,null,null,12,13,14,15,16],[null,1,null,11,null,null,null,17],[null,2,6,7,null,null,null,18],[null,3,null,8,null,null,null,19],[5,4,10,9,null,null,null,20],[null,null,null,27,null,null,null,21],[null,null,null,26,25,24,23,22]],\"type\":\"contour\",\"xaxis\":\"x\",\"yaxis\":\"y\"},{\"connectgaps\":true,\"showscale\":false,\"z\":[[null,null,null,12,13,14,15,16],[null,1,null,11,null,null,null,17],[null,2,6,7,null,null,null,18],[null,3,null,8,null,null,null,19],[5,4,10,9,null,null,null,20],[null,null,null,27,null,null,null,21],[null,null,null,26,25,24,23,22]],\"type\":\"contour\",\"xaxis\":\"x2\",\"yaxis\":\"y2\"},{\"showscale\":false,\"z\":[[null,null,null,12,13,14,15,16],[null,1,null,11,null,null,null,17],[null,2,6,7,null,null,null,18],[null,3,null,8,null,null,null,19],[5,4,10,9,null,null,null,20],[null,null,null,27,null,null,null,21],[null,null,null,26,25,24,23,22]],\"zsmooth\":\"best\",\"type\":\"heatmap\",\"xaxis\":\"x3\",\"yaxis\":\"y3\"},{\"connectgaps\":true,\"showscale\":false,\"z\":[[null,null,null,12,13,14,15,16],[null,1,null,11,null,null,null,17],[null,2,6,7,null,null,null,18],[null,3,null,8,null,null,null,19],[5,4,10,9,null,null,null,20],[null,null,null,27,null,null,null,21],[null,null,null,26,25,24,23,22]],\"zsmooth\":\"best\",\"type\":\"heatmap\",\"xaxis\":\"x4\",\"yaxis\":\"y4\"},{\"showscale\":true,\"z\":[[null,null,null,12,13,14,15,16],[null,1,null,11,null,null,null,17],[null,2,6,7,null,null,null,18],[null,3,null,8,null,null,null,19],[5,4,10,9,null,null,null,20],[null,null,null,27,null,null,null,21],[null,null,null,26,25,24,23,22]],\"type\":\"contour\",\"xaxis\":\"x\",\"yaxis\":\"y\"},{\"connectgaps\":true,\"showscale\":true,\"z\":[[null,null,null,12,13,14,15,16],[null,1,null,11,null,null,null,17],[null,2,6,7,null,null,null,18],[null,3,null,8,null,null,null,19],[5,4,10,9,null,null,null,20],[null,null,null,27,null,null,null,21],[null,null,null,26,25,24,23,22]],\"type\":\"contour\",\"xaxis\":\"x2\",\"yaxis\":\"y2\"},{\"showscale\":true,\"z\":[[null,null,null,12,13,14,15,16],[null,1,null,11,null,null,null,17],[null,2,6,7,null,null,null,18],[null,3,null,8,null,null,null,19],[5,4,10,9,null,null,null,20],[null,null,null,27,null,null,null,21],[null,null,null,26,25,24,23,22]],\"zsmooth\":\"best\",\"type\":\"heatmap\",\"xaxis\":\"x3\",\"yaxis\":\"y3\"},{\"connectgaps\":true,\"showscale\":true,\"z\":[[null,null,null,12,13,14,15,16],[null,1,null,11,null,null,null,17],[null,2,6,7,null,null,null,18],[null,3,null,8,null,null,null,19],[5,4,10,9,null,null,null,20],[null,null,null,27,null,null,null,21],[null,null,null,26,25,24,23,22]],\"zsmooth\":\"best\",\"type\":\"heatmap\",\"xaxis\":\"x4\",\"yaxis\":\"y4\"},{\"showscale\":false,\"z\":[[null,null,null,12,13,14,15,16],[null,1,null,11,null,null,null,17],[null,2,6,7,null,null,null,18],[null,3,null,8,null,null,null,19],[5,4,10,9,null,null,null,20],[null,null,null,27,null,null,null,21],[null,null,null,26,25,24,23,22]],\"type\":\"contour\",\"xaxis\":\"x\",\"yaxis\":\"y\"},{\"connectgaps\":true,\"showscale\":false,\"z\":[[null,null,null,12,13,14,15,16],[null,1,null,11,null,null,null,17],[null,2,6,7,null,null,null,18],[null,3,null,8,null,null,null,19],[5,4,10,9,null,null,null,20],[null,null,null,27,null,null,null,21],[null,null,null,26,25,24,23,22]],\"type\":\"contour\",\"xaxis\":\"x2\",\"yaxis\":\"y2\"},{\"showscale\":false,\"z\":[[null,null,null,12,13,14,15,16],[null,1,null,11,null,null,null,17],[null,2,6,7,null,null,null,18],[null,3,null,8,null,null,null,19],[5,4,10,9,null,null,null,20],[null,null,null,27,null,null,null,21],[null,null,null,26,25,24,23,22]],\"zsmooth\":\"best\",\"type\":\"heatmap\",\"xaxis\":\"x3\",\"yaxis\":\"y3\"},{\"connectgaps\":true,\"showscale\":false,\"z\":[[null,null,null,12,13,14,15,16],[null,1,null,11,null,null,null,17],[null,2,6,7,null,null,null,18],[null,3,null,8,null,null,null,19],[5,4,10,9,null,null,null,20],[null,null,null,27,null,null,null,21],[null,null,null,26,25,24,23,22]],\"zsmooth\":\"best\",\"type\":\"heatmap\",\"xaxis\":\"x4\",\"yaxis\":\"y4\"}],                        {\"template\":{\"data\":{\"histogram2dcontour\":[{\"type\":\"histogram2dcontour\",\"colorbar\":{\"outlinewidth\":0,\"ticks\":\"\"},\"colorscale\":[[0.0,\"#0d0887\"],[0.1111111111111111,\"#46039f\"],[0.2222222222222222,\"#7201a8\"],[0.3333333333333333,\"#9c179e\"],[0.4444444444444444,\"#bd3786\"],[0.5555555555555556,\"#d8576b\"],[0.6666666666666666,\"#ed7953\"],[0.7777777777777778,\"#fb9f3a\"],[0.8888888888888888,\"#fdca26\"],[1.0,\"#f0f921\"]]}],\"choropleth\":[{\"type\":\"choropleth\",\"colorbar\":{\"outlinewidth\":0,\"ticks\":\"\"}}],\"histogram2d\":[{\"type\":\"histogram2d\",\"colorbar\":{\"outlinewidth\":0,\"ticks\":\"\"},\"colorscale\":[[0.0,\"#0d0887\"],[0.1111111111111111,\"#46039f\"],[0.2222222222222222,\"#7201a8\"],[0.3333333333333333,\"#9c179e\"],[0.4444444444444444,\"#bd3786\"],[0.5555555555555556,\"#d8576b\"],[0.6666666666666666,\"#ed7953\"],[0.7777777777777778,\"#fb9f3a\"],[0.8888888888888888,\"#fdca26\"],[1.0,\"#f0f921\"]]}],\"heatmap\":[{\"type\":\"heatmap\",\"colorbar\":{\"outlinewidth\":0,\"ticks\":\"\"},\"colorscale\":[[0.0,\"#0d0887\"],[0.1111111111111111,\"#46039f\"],[0.2222222222222222,\"#7201a8\"],[0.3333333333333333,\"#9c179e\"],[0.4444444444444444,\"#bd3786\"],[0.5555555555555556,\"#d8576b\"],[0.6666666666666666,\"#ed7953\"],[0.7777777777777778,\"#fb9f3a\"],[0.8888888888888888,\"#fdca26\"],[1.0,\"#f0f921\"]]}],\"heatmapgl\":[{\"type\":\"heatmapgl\",\"colorbar\":{\"outlinewidth\":0,\"ticks\":\"\"},\"colorscale\":[[0.0,\"#0d0887\"],[0.1111111111111111,\"#46039f\"],[0.2222222222222222,\"#7201a8\"],[0.3333333333333333,\"#9c179e\"],[0.4444444444444444,\"#bd3786\"],[0.5555555555555556,\"#d8576b\"],[0.6666666666666666,\"#ed7953\"],[0.7777777777777778,\"#fb9f3a\"],[0.8888888888888888,\"#fdca26\"],[1.0,\"#f0f921\"]]}],\"contourcarpet\":[{\"type\":\"contourcarpet\",\"colorbar\":{\"outlinewidth\":0,\"ticks\":\"\"}}],\"contour\":[{\"type\":\"contour\",\"colorbar\":{\"outlinewidth\":0,\"ticks\":\"\"},\"colorscale\":[[0.0,\"#0d0887\"],[0.1111111111111111,\"#46039f\"],[0.2222222222222222,\"#7201a8\"],[0.3333333333333333,\"#9c179e\"],[0.4444444444444444,\"#bd3786\"],[0.5555555555555556,\"#d8576b\"],[0.6666666666666666,\"#ed7953\"],[0.7777777777777778,\"#fb9f3a\"],[0.8888888888888888,\"#fdca26\"],[1.0,\"#f0f921\"]]}],\"surface\":[{\"type\":\"surface\",\"colorbar\":{\"outlinewidth\":0,\"ticks\":\"\"},\"colorscale\":[[0.0,\"#0d0887\"],[0.1111111111111111,\"#46039f\"],[0.2222222222222222,\"#7201a8\"],[0.3333333333333333,\"#9c179e\"],[0.4444444444444444,\"#bd3786\"],[0.5555555555555556,\"#d8576b\"],[0.6666666666666666,\"#ed7953\"],[0.7777777777777778,\"#fb9f3a\"],[0.8888888888888888,\"#fdca26\"],[1.0,\"#f0f921\"]]}],\"mesh3d\":[{\"type\":\"mesh3d\",\"colorbar\":{\"outlinewidth\":0,\"ticks\":\"\"}}],\"scatter\":[{\"fillpattern\":{\"fillmode\":\"overlay\",\"size\":10,\"solidity\":0.2},\"type\":\"scatter\"}],\"parcoords\":[{\"type\":\"parcoords\",\"line\":{\"colorbar\":{\"outlinewidth\":0,\"ticks\":\"\"}}}],\"scatterpolargl\":[{\"type\":\"scatterpolargl\",\"marker\":{\"colorbar\":{\"outlinewidth\":0,\"ticks\":\"\"}}}],\"bar\":[{\"error_x\":{\"color\":\"#2a3f5f\"},\"error_y\":{\"color\":\"#2a3f5f\"},\"marker\":{\"line\":{\"color\":\"#E5ECF6\",\"width\":0.5},\"pattern\":{\"fillmode\":\"overlay\",\"size\":10,\"solidity\":0.2}},\"type\":\"bar\"}],\"scattergeo\":[{\"type\":\"scattergeo\",\"marker\":{\"colorbar\":{\"outlinewidth\":0,\"ticks\":\"\"}}}],\"scatterpolar\":[{\"type\":\"scatterpolar\",\"marker\":{\"colorbar\":{\"outlinewidth\":0,\"ticks\":\"\"}}}],\"histogram\":[{\"marker\":{\"pattern\":{\"fillmode\":\"overlay\",\"size\":10,\"solidity\":0.2}},\"type\":\"histogram\"}],\"scattergl\":[{\"type\":\"scattergl\",\"marker\":{\"colorbar\":{\"outlinewidth\":0,\"ticks\":\"\"}}}],\"scatter3d\":[{\"type\":\"scatter3d\",\"line\":{\"colorbar\":{\"outlinewidth\":0,\"ticks\":\"\"}},\"marker\":{\"colorbar\":{\"outlinewidth\":0,\"ticks\":\"\"}}}],\"scattermapbox\":[{\"type\":\"scattermapbox\",\"marker\":{\"colorbar\":{\"outlinewidth\":0,\"ticks\":\"\"}}}],\"scatterternary\":[{\"type\":\"scatterternary\",\"marker\":{\"colorbar\":{\"outlinewidth\":0,\"ticks\":\"\"}}}],\"scattercarpet\":[{\"type\":\"scattercarpet\",\"marker\":{\"colorbar\":{\"outlinewidth\":0,\"ticks\":\"\"}}}],\"carpet\":[{\"aaxis\":{\"endlinecolor\":\"#2a3f5f\",\"gridcolor\":\"white\",\"linecolor\":\"white\",\"minorgridcolor\":\"white\",\"startlinecolor\":\"#2a3f5f\"},\"baxis\":{\"endlinecolor\":\"#2a3f5f\",\"gridcolor\":\"white\",\"linecolor\":\"white\",\"minorgridcolor\":\"white\",\"startlinecolor\":\"#2a3f5f\"},\"type\":\"carpet\"}],\"table\":[{\"cells\":{\"fill\":{\"color\":\"#EBF0F8\"},\"line\":{\"color\":\"white\"}},\"header\":{\"fill\":{\"color\":\"#C8D4E3\"},\"line\":{\"color\":\"white\"}},\"type\":\"table\"}],\"barpolar\":[{\"marker\":{\"line\":{\"color\":\"#E5ECF6\",\"width\":0.5},\"pattern\":{\"fillmode\":\"overlay\",\"size\":10,\"solidity\":0.2}},\"type\":\"barpolar\"}],\"pie\":[{\"automargin\":true,\"type\":\"pie\"}]},\"layout\":{\"autotypenumbers\":\"strict\",\"colorway\":[\"#636efa\",\"#EF553B\",\"#00cc96\",\"#ab63fa\",\"#FFA15A\",\"#19d3f3\",\"#FF6692\",\"#B6E880\",\"#FF97FF\",\"#FECB52\"],\"font\":{\"color\":\"#2a3f5f\"},\"hovermode\":\"closest\",\"hoverlabel\":{\"align\":\"left\"},\"paper_bgcolor\":\"white\",\"plot_bgcolor\":\"#E5ECF6\",\"polar\":{\"bgcolor\":\"#E5ECF6\",\"angularaxis\":{\"gridcolor\":\"white\",\"linecolor\":\"white\",\"ticks\":\"\"},\"radialaxis\":{\"gridcolor\":\"white\",\"linecolor\":\"white\",\"ticks\":\"\"}},\"ternary\":{\"bgcolor\":\"#E5ECF6\",\"aaxis\":{\"gridcolor\":\"white\",\"linecolor\":\"white\",\"ticks\":\"\"},\"baxis\":{\"gridcolor\":\"white\",\"linecolor\":\"white\",\"ticks\":\"\"},\"caxis\":{\"gridcolor\":\"white\",\"linecolor\":\"white\",\"ticks\":\"\"}},\"coloraxis\":{\"colorbar\":{\"outlinewidth\":0,\"ticks\":\"\"}},\"colorscale\":{\"sequential\":[[0.0,\"#0d0887\"],[0.1111111111111111,\"#46039f\"],[0.2222222222222222,\"#7201a8\"],[0.3333333333333333,\"#9c179e\"],[0.4444444444444444,\"#bd3786\"],[0.5555555555555556,\"#d8576b\"],[0.6666666666666666,\"#ed7953\"],[0.7777777777777778,\"#fb9f3a\"],[0.8888888888888888,\"#fdca26\"],[1.0,\"#f0f921\"]],\"sequentialminus\":[[0.0,\"#0d0887\"],[0.1111111111111111,\"#46039f\"],[0.2222222222222222,\"#7201a8\"],[0.3333333333333333,\"#9c179e\"],[0.4444444444444444,\"#bd3786\"],[0.5555555555555556,\"#d8576b\"],[0.6666666666666666,\"#ed7953\"],[0.7777777777777778,\"#fb9f3a\"],[0.8888888888888888,\"#fdca26\"],[1.0,\"#f0f921\"]],\"diverging\":[[0,\"#8e0152\"],[0.1,\"#c51b7d\"],[0.2,\"#de77ae\"],[0.3,\"#f1b6da\"],[0.4,\"#fde0ef\"],[0.5,\"#f7f7f7\"],[0.6,\"#e6f5d0\"],[0.7,\"#b8e186\"],[0.8,\"#7fbc41\"],[0.9,\"#4d9221\"],[1,\"#276419\"]]},\"xaxis\":{\"gridcolor\":\"white\",\"linecolor\":\"white\",\"ticks\":\"\",\"title\":{\"standoff\":15},\"zerolinecolor\":\"white\",\"automargin\":true,\"zerolinewidth\":2},\"yaxis\":{\"gridcolor\":\"white\",\"linecolor\":\"white\",\"ticks\":\"\",\"title\":{\"standoff\":15},\"zerolinecolor\":\"white\",\"automargin\":true,\"zerolinewidth\":2},\"scene\":{\"xaxis\":{\"backgroundcolor\":\"#E5ECF6\",\"gridcolor\":\"white\",\"linecolor\":\"white\",\"showbackground\":true,\"ticks\":\"\",\"zerolinecolor\":\"white\",\"gridwidth\":2},\"yaxis\":{\"backgroundcolor\":\"#E5ECF6\",\"gridcolor\":\"white\",\"linecolor\":\"white\",\"showbackground\":true,\"ticks\":\"\",\"zerolinecolor\":\"white\",\"gridwidth\":2},\"zaxis\":{\"backgroundcolor\":\"#E5ECF6\",\"gridcolor\":\"white\",\"linecolor\":\"white\",\"showbackground\":true,\"ticks\":\"\",\"zerolinecolor\":\"white\",\"gridwidth\":2}},\"shapedefaults\":{\"line\":{\"color\":\"#2a3f5f\"}},\"annotationdefaults\":{\"arrowcolor\":\"#2a3f5f\",\"arrowhead\":0,\"arrowwidth\":1},\"geo\":{\"bgcolor\":\"white\",\"landcolor\":\"#E5ECF6\",\"subunitcolor\":\"white\",\"showland\":true,\"showlakes\":true,\"lakecolor\":\"white\"},\"title\":{\"x\":0.05},\"mapbox\":{\"style\":\"light\"}}},\"xaxis\":{\"anchor\":\"y\",\"domain\":[0.0,0.45]},\"yaxis\":{\"anchor\":\"x\",\"domain\":[0.625,1.0],\"title\":{\"text\":\"Contour map\"}},\"xaxis2\":{\"anchor\":\"y2\",\"domain\":[0.55,1.0]},\"yaxis2\":{\"anchor\":\"x2\",\"domain\":[0.625,1.0]},\"xaxis3\":{\"anchor\":\"y3\",\"domain\":[0.0,0.45]},\"yaxis3\":{\"anchor\":\"x3\",\"domain\":[0.0,0.375],\"title\":{\"text\":\"Heatmap\"}},\"xaxis4\":{\"anchor\":\"y4\",\"domain\":[0.55,1.0]},\"yaxis4\":{\"anchor\":\"x4\",\"domain\":[0.0,0.375]},\"annotations\":[{\"font\":{\"size\":16},\"showarrow\":false,\"text\":\"connectgaps = False\",\"x\":0.225,\"xanchor\":\"center\",\"xref\":\"paper\",\"y\":1.0,\"yanchor\":\"bottom\",\"yref\":\"paper\"},{\"font\":{\"size\":16},\"showarrow\":false,\"text\":\"connectgaps = True\",\"x\":0.775,\"xanchor\":\"center\",\"xref\":\"paper\",\"y\":1.0,\"yanchor\":\"bottom\",\"yref\":\"paper\"}]},                        {\"responsive\": true}                    ).then(function(){\n",
       "                            \n",
       "var gd = document.getElementById('36dd02b0-1c2b-4cb2-b182-48b51fba4b1d');\n",
       "var x = new MutationObserver(function (mutations, observer) {{\n",
       "        var display = window.getComputedStyle(gd).display;\n",
       "        if (!display || display === 'none') {{\n",
       "            console.log([gd, 'removed!']);\n",
       "            Plotly.purge(gd);\n",
       "            observer.disconnect();\n",
       "        }}\n",
       "}});\n",
       "\n",
       "// Listen for the removal of the full notebook cells\n",
       "var notebookContainer = gd.closest('#notebook-container');\n",
       "if (notebookContainer) {{\n",
       "    x.observe(notebookContainer, {childList: true});\n",
       "}}\n",
       "\n",
       "// Listen for the clearing of the current output cell\n",
       "var outputEl = gd.closest('.output');\n",
       "if (outputEl) {{\n",
       "    x.observe(outputEl, {childList: true});\n",
       "}}\n",
       "\n",
       "                        })                };                });            </script>        </div>"
      ]
     },
     "metadata": {},
     "output_type": "display_data"
    }
   ],
   "source": [
    "fig.add_trace(go.Contour(z=z, showscale=False), 1, 1)\n",
    "fig.add_trace(go.Contour(z=z, showscale=False, connectgaps=True), 1, 2)\n",
    "fig.add_trace(go.Heatmap(z=z, showscale=False, zsmooth='best'), 2, 1)\n",
    "fig.add_trace(go.Heatmap(z=z, showscale=False, connectgaps=True, zsmooth='best'), 2, 2)\n"
   ]
  },
  {
   "cell_type": "code",
   "execution_count": 10,
   "id": "884ace58",
   "metadata": {},
   "outputs": [
    {
     "data": {
      "text/plain": [
       "layout.YAxis({\n",
       "    'anchor': 'x3', 'domain': [0.0, 0.375], 'title': {'text': 'Heatmap'}\n",
       "})"
      ]
     },
     "execution_count": 10,
     "metadata": {},
     "output_type": "execute_result"
    }
   ],
   "source": [
    "fig['layout']['yaxis1'].update(title='Contour map')\n",
    "fig['layout']['yaxis3'].update(title='Heatmap')"
   ]
  },
  {
   "cell_type": "code",
   "execution_count": 11,
   "id": "cdd97b25",
   "metadata": {},
   "outputs": [
    {
     "data": {
      "application/vnd.plotly.v1+json": {
       "config": {
        "plotlyServerURL": "https://plot.ly"
       },
       "data": [
        {
         "showscale": false,
         "type": "contour",
         "xaxis": "x",
         "yaxis": "y",
         "z": [
          [
           null,
           null,
           null,
           12,
           13,
           14,
           15,
           16
          ],
          [
           null,
           1,
           null,
           11,
           null,
           null,
           null,
           17
          ],
          [
           null,
           2,
           6,
           7,
           null,
           null,
           null,
           18
          ],
          [
           null,
           3,
           null,
           8,
           null,
           null,
           null,
           19
          ],
          [
           5,
           4,
           10,
           9,
           null,
           null,
           null,
           20
          ],
          [
           null,
           null,
           null,
           27,
           null,
           null,
           null,
           21
          ],
          [
           null,
           null,
           null,
           26,
           25,
           24,
           23,
           22
          ]
         ]
        },
        {
         "connectgaps": true,
         "showscale": false,
         "type": "contour",
         "xaxis": "x2",
         "yaxis": "y2",
         "z": [
          [
           null,
           null,
           null,
           12,
           13,
           14,
           15,
           16
          ],
          [
           null,
           1,
           null,
           11,
           null,
           null,
           null,
           17
          ],
          [
           null,
           2,
           6,
           7,
           null,
           null,
           null,
           18
          ],
          [
           null,
           3,
           null,
           8,
           null,
           null,
           null,
           19
          ],
          [
           5,
           4,
           10,
           9,
           null,
           null,
           null,
           20
          ],
          [
           null,
           null,
           null,
           27,
           null,
           null,
           null,
           21
          ],
          [
           null,
           null,
           null,
           26,
           25,
           24,
           23,
           22
          ]
         ]
        },
        {
         "showscale": false,
         "type": "heatmap",
         "xaxis": "x3",
         "yaxis": "y3",
         "z": [
          [
           null,
           null,
           null,
           12,
           13,
           14,
           15,
           16
          ],
          [
           null,
           1,
           null,
           11,
           null,
           null,
           null,
           17
          ],
          [
           null,
           2,
           6,
           7,
           null,
           null,
           null,
           18
          ],
          [
           null,
           3,
           null,
           8,
           null,
           null,
           null,
           19
          ],
          [
           5,
           4,
           10,
           9,
           null,
           null,
           null,
           20
          ],
          [
           null,
           null,
           null,
           27,
           null,
           null,
           null,
           21
          ],
          [
           null,
           null,
           null,
           26,
           25,
           24,
           23,
           22
          ]
         ],
         "zsmooth": "best"
        },
        {
         "connectgaps": true,
         "showscale": false,
         "type": "heatmap",
         "xaxis": "x4",
         "yaxis": "y4",
         "z": [
          [
           null,
           null,
           null,
           12,
           13,
           14,
           15,
           16
          ],
          [
           null,
           1,
           null,
           11,
           null,
           null,
           null,
           17
          ],
          [
           null,
           2,
           6,
           7,
           null,
           null,
           null,
           18
          ],
          [
           null,
           3,
           null,
           8,
           null,
           null,
           null,
           19
          ],
          [
           5,
           4,
           10,
           9,
           null,
           null,
           null,
           20
          ],
          [
           null,
           null,
           null,
           27,
           null,
           null,
           null,
           21
          ],
          [
           null,
           null,
           null,
           26,
           25,
           24,
           23,
           22
          ]
         ],
         "zsmooth": "best"
        },
        {
         "showscale": false,
         "type": "contour",
         "xaxis": "x",
         "yaxis": "y",
         "z": [
          [
           null,
           null,
           null,
           12,
           13,
           14,
           15,
           16
          ],
          [
           null,
           1,
           null,
           11,
           null,
           null,
           null,
           17
          ],
          [
           null,
           2,
           6,
           7,
           null,
           null,
           null,
           18
          ],
          [
           null,
           3,
           null,
           8,
           null,
           null,
           null,
           19
          ],
          [
           5,
           4,
           10,
           9,
           null,
           null,
           null,
           20
          ],
          [
           null,
           null,
           null,
           27,
           null,
           null,
           null,
           21
          ],
          [
           null,
           null,
           null,
           26,
           25,
           24,
           23,
           22
          ]
         ]
        },
        {
         "connectgaps": true,
         "showscale": false,
         "type": "contour",
         "xaxis": "x2",
         "yaxis": "y2",
         "z": [
          [
           null,
           null,
           null,
           12,
           13,
           14,
           15,
           16
          ],
          [
           null,
           1,
           null,
           11,
           null,
           null,
           null,
           17
          ],
          [
           null,
           2,
           6,
           7,
           null,
           null,
           null,
           18
          ],
          [
           null,
           3,
           null,
           8,
           null,
           null,
           null,
           19
          ],
          [
           5,
           4,
           10,
           9,
           null,
           null,
           null,
           20
          ],
          [
           null,
           null,
           null,
           27,
           null,
           null,
           null,
           21
          ],
          [
           null,
           null,
           null,
           26,
           25,
           24,
           23,
           22
          ]
         ]
        },
        {
         "showscale": false,
         "type": "heatmap",
         "xaxis": "x3",
         "yaxis": "y3",
         "z": [
          [
           null,
           null,
           null,
           12,
           13,
           14,
           15,
           16
          ],
          [
           null,
           1,
           null,
           11,
           null,
           null,
           null,
           17
          ],
          [
           null,
           2,
           6,
           7,
           null,
           null,
           null,
           18
          ],
          [
           null,
           3,
           null,
           8,
           null,
           null,
           null,
           19
          ],
          [
           5,
           4,
           10,
           9,
           null,
           null,
           null,
           20
          ],
          [
           null,
           null,
           null,
           27,
           null,
           null,
           null,
           21
          ],
          [
           null,
           null,
           null,
           26,
           25,
           24,
           23,
           22
          ]
         ],
         "zsmooth": "best"
        },
        {
         "connectgaps": true,
         "showscale": false,
         "type": "heatmap",
         "xaxis": "x4",
         "yaxis": "y4",
         "z": [
          [
           null,
           null,
           null,
           12,
           13,
           14,
           15,
           16
          ],
          [
           null,
           1,
           null,
           11,
           null,
           null,
           null,
           17
          ],
          [
           null,
           2,
           6,
           7,
           null,
           null,
           null,
           18
          ],
          [
           null,
           3,
           null,
           8,
           null,
           null,
           null,
           19
          ],
          [
           5,
           4,
           10,
           9,
           null,
           null,
           null,
           20
          ],
          [
           null,
           null,
           null,
           27,
           null,
           null,
           null,
           21
          ],
          [
           null,
           null,
           null,
           26,
           25,
           24,
           23,
           22
          ]
         ],
         "zsmooth": "best"
        },
        {
         "showscale": false,
         "type": "contour",
         "xaxis": "x",
         "yaxis": "y",
         "z": [
          [
           null,
           null,
           null,
           12,
           13,
           14,
           15,
           16
          ],
          [
           null,
           1,
           null,
           11,
           null,
           null,
           null,
           17
          ],
          [
           null,
           2,
           6,
           7,
           null,
           null,
           null,
           18
          ],
          [
           null,
           3,
           null,
           8,
           null,
           null,
           null,
           19
          ],
          [
           5,
           4,
           10,
           9,
           null,
           null,
           null,
           20
          ],
          [
           null,
           null,
           null,
           27,
           null,
           null,
           null,
           21
          ],
          [
           null,
           null,
           null,
           26,
           25,
           24,
           23,
           22
          ]
         ]
        },
        {
         "connectgaps": true,
         "showscale": false,
         "type": "contour",
         "xaxis": "x2",
         "yaxis": "y2",
         "z": [
          [
           null,
           null,
           null,
           12,
           13,
           14,
           15,
           16
          ],
          [
           null,
           1,
           null,
           11,
           null,
           null,
           null,
           17
          ],
          [
           null,
           2,
           6,
           7,
           null,
           null,
           null,
           18
          ],
          [
           null,
           3,
           null,
           8,
           null,
           null,
           null,
           19
          ],
          [
           5,
           4,
           10,
           9,
           null,
           null,
           null,
           20
          ],
          [
           null,
           null,
           null,
           27,
           null,
           null,
           null,
           21
          ],
          [
           null,
           null,
           null,
           26,
           25,
           24,
           23,
           22
          ]
         ]
        },
        {
         "showscale": false,
         "type": "heatmap",
         "xaxis": "x3",
         "yaxis": "y3",
         "z": [
          [
           null,
           null,
           null,
           12,
           13,
           14,
           15,
           16
          ],
          [
           null,
           1,
           null,
           11,
           null,
           null,
           null,
           17
          ],
          [
           null,
           2,
           6,
           7,
           null,
           null,
           null,
           18
          ],
          [
           null,
           3,
           null,
           8,
           null,
           null,
           null,
           19
          ],
          [
           5,
           4,
           10,
           9,
           null,
           null,
           null,
           20
          ],
          [
           null,
           null,
           null,
           27,
           null,
           null,
           null,
           21
          ],
          [
           null,
           null,
           null,
           26,
           25,
           24,
           23,
           22
          ]
         ],
         "zsmooth": "best"
        },
        {
         "connectgaps": true,
         "showscale": false,
         "type": "heatmap",
         "xaxis": "x4",
         "yaxis": "y4",
         "z": [
          [
           null,
           null,
           null,
           12,
           13,
           14,
           15,
           16
          ],
          [
           null,
           1,
           null,
           11,
           null,
           null,
           null,
           17
          ],
          [
           null,
           2,
           6,
           7,
           null,
           null,
           null,
           18
          ],
          [
           null,
           3,
           null,
           8,
           null,
           null,
           null,
           19
          ],
          [
           5,
           4,
           10,
           9,
           null,
           null,
           null,
           20
          ],
          [
           null,
           null,
           null,
           27,
           null,
           null,
           null,
           21
          ],
          [
           null,
           null,
           null,
           26,
           25,
           24,
           23,
           22
          ]
         ],
         "zsmooth": "best"
        },
        {
         "showscale": true,
         "type": "contour",
         "xaxis": "x",
         "yaxis": "y",
         "z": [
          [
           null,
           null,
           null,
           12,
           13,
           14,
           15,
           16
          ],
          [
           null,
           1,
           null,
           11,
           null,
           null,
           null,
           17
          ],
          [
           null,
           2,
           6,
           7,
           null,
           null,
           null,
           18
          ],
          [
           null,
           3,
           null,
           8,
           null,
           null,
           null,
           19
          ],
          [
           5,
           4,
           10,
           9,
           null,
           null,
           null,
           20
          ],
          [
           null,
           null,
           null,
           27,
           null,
           null,
           null,
           21
          ],
          [
           null,
           null,
           null,
           26,
           25,
           24,
           23,
           22
          ]
         ]
        },
        {
         "connectgaps": true,
         "showscale": true,
         "type": "contour",
         "xaxis": "x2",
         "yaxis": "y2",
         "z": [
          [
           null,
           null,
           null,
           12,
           13,
           14,
           15,
           16
          ],
          [
           null,
           1,
           null,
           11,
           null,
           null,
           null,
           17
          ],
          [
           null,
           2,
           6,
           7,
           null,
           null,
           null,
           18
          ],
          [
           null,
           3,
           null,
           8,
           null,
           null,
           null,
           19
          ],
          [
           5,
           4,
           10,
           9,
           null,
           null,
           null,
           20
          ],
          [
           null,
           null,
           null,
           27,
           null,
           null,
           null,
           21
          ],
          [
           null,
           null,
           null,
           26,
           25,
           24,
           23,
           22
          ]
         ]
        },
        {
         "showscale": true,
         "type": "heatmap",
         "xaxis": "x3",
         "yaxis": "y3",
         "z": [
          [
           null,
           null,
           null,
           12,
           13,
           14,
           15,
           16
          ],
          [
           null,
           1,
           null,
           11,
           null,
           null,
           null,
           17
          ],
          [
           null,
           2,
           6,
           7,
           null,
           null,
           null,
           18
          ],
          [
           null,
           3,
           null,
           8,
           null,
           null,
           null,
           19
          ],
          [
           5,
           4,
           10,
           9,
           null,
           null,
           null,
           20
          ],
          [
           null,
           null,
           null,
           27,
           null,
           null,
           null,
           21
          ],
          [
           null,
           null,
           null,
           26,
           25,
           24,
           23,
           22
          ]
         ],
         "zsmooth": "best"
        },
        {
         "connectgaps": true,
         "showscale": true,
         "type": "heatmap",
         "xaxis": "x4",
         "yaxis": "y4",
         "z": [
          [
           null,
           null,
           null,
           12,
           13,
           14,
           15,
           16
          ],
          [
           null,
           1,
           null,
           11,
           null,
           null,
           null,
           17
          ],
          [
           null,
           2,
           6,
           7,
           null,
           null,
           null,
           18
          ],
          [
           null,
           3,
           null,
           8,
           null,
           null,
           null,
           19
          ],
          [
           5,
           4,
           10,
           9,
           null,
           null,
           null,
           20
          ],
          [
           null,
           null,
           null,
           27,
           null,
           null,
           null,
           21
          ],
          [
           null,
           null,
           null,
           26,
           25,
           24,
           23,
           22
          ]
         ],
         "zsmooth": "best"
        }
       ],
       "layout": {
        "annotations": [
         {
          "font": {
           "size": 16
          },
          "showarrow": false,
          "text": "connectgaps = False",
          "x": 0.225,
          "xanchor": "center",
          "xref": "paper",
          "y": 1,
          "yanchor": "bottom",
          "yref": "paper"
         },
         {
          "font": {
           "size": 16
          },
          "showarrow": false,
          "text": "connectgaps = True",
          "x": 0.775,
          "xanchor": "center",
          "xref": "paper",
          "y": 1,
          "yanchor": "bottom",
          "yref": "paper"
         }
        ],
        "template": {
         "data": {
          "bar": [
           {
            "error_x": {
             "color": "#2a3f5f"
            },
            "error_y": {
             "color": "#2a3f5f"
            },
            "marker": {
             "line": {
              "color": "#E5ECF6",
              "width": 0.5
             },
             "pattern": {
              "fillmode": "overlay",
              "size": 10,
              "solidity": 0.2
             }
            },
            "type": "bar"
           }
          ],
          "barpolar": [
           {
            "marker": {
             "line": {
              "color": "#E5ECF6",
              "width": 0.5
             },
             "pattern": {
              "fillmode": "overlay",
              "size": 10,
              "solidity": 0.2
             }
            },
            "type": "barpolar"
           }
          ],
          "carpet": [
           {
            "aaxis": {
             "endlinecolor": "#2a3f5f",
             "gridcolor": "white",
             "linecolor": "white",
             "minorgridcolor": "white",
             "startlinecolor": "#2a3f5f"
            },
            "baxis": {
             "endlinecolor": "#2a3f5f",
             "gridcolor": "white",
             "linecolor": "white",
             "minorgridcolor": "white",
             "startlinecolor": "#2a3f5f"
            },
            "type": "carpet"
           }
          ],
          "choropleth": [
           {
            "colorbar": {
             "outlinewidth": 0,
             "ticks": ""
            },
            "type": "choropleth"
           }
          ],
          "contour": [
           {
            "colorbar": {
             "outlinewidth": 0,
             "ticks": ""
            },
            "colorscale": [
             [
              0,
              "#0d0887"
             ],
             [
              0.1111111111111111,
              "#46039f"
             ],
             [
              0.2222222222222222,
              "#7201a8"
             ],
             [
              0.3333333333333333,
              "#9c179e"
             ],
             [
              0.4444444444444444,
              "#bd3786"
             ],
             [
              0.5555555555555556,
              "#d8576b"
             ],
             [
              0.6666666666666666,
              "#ed7953"
             ],
             [
              0.7777777777777778,
              "#fb9f3a"
             ],
             [
              0.8888888888888888,
              "#fdca26"
             ],
             [
              1,
              "#f0f921"
             ]
            ],
            "type": "contour"
           }
          ],
          "contourcarpet": [
           {
            "colorbar": {
             "outlinewidth": 0,
             "ticks": ""
            },
            "type": "contourcarpet"
           }
          ],
          "heatmap": [
           {
            "colorbar": {
             "outlinewidth": 0,
             "ticks": ""
            },
            "colorscale": [
             [
              0,
              "#0d0887"
             ],
             [
              0.1111111111111111,
              "#46039f"
             ],
             [
              0.2222222222222222,
              "#7201a8"
             ],
             [
              0.3333333333333333,
              "#9c179e"
             ],
             [
              0.4444444444444444,
              "#bd3786"
             ],
             [
              0.5555555555555556,
              "#d8576b"
             ],
             [
              0.6666666666666666,
              "#ed7953"
             ],
             [
              0.7777777777777778,
              "#fb9f3a"
             ],
             [
              0.8888888888888888,
              "#fdca26"
             ],
             [
              1,
              "#f0f921"
             ]
            ],
            "type": "heatmap"
           }
          ],
          "heatmapgl": [
           {
            "colorbar": {
             "outlinewidth": 0,
             "ticks": ""
            },
            "colorscale": [
             [
              0,
              "#0d0887"
             ],
             [
              0.1111111111111111,
              "#46039f"
             ],
             [
              0.2222222222222222,
              "#7201a8"
             ],
             [
              0.3333333333333333,
              "#9c179e"
             ],
             [
              0.4444444444444444,
              "#bd3786"
             ],
             [
              0.5555555555555556,
              "#d8576b"
             ],
             [
              0.6666666666666666,
              "#ed7953"
             ],
             [
              0.7777777777777778,
              "#fb9f3a"
             ],
             [
              0.8888888888888888,
              "#fdca26"
             ],
             [
              1,
              "#f0f921"
             ]
            ],
            "type": "heatmapgl"
           }
          ],
          "histogram": [
           {
            "marker": {
             "pattern": {
              "fillmode": "overlay",
              "size": 10,
              "solidity": 0.2
             }
            },
            "type": "histogram"
           }
          ],
          "histogram2d": [
           {
            "colorbar": {
             "outlinewidth": 0,
             "ticks": ""
            },
            "colorscale": [
             [
              0,
              "#0d0887"
             ],
             [
              0.1111111111111111,
              "#46039f"
             ],
             [
              0.2222222222222222,
              "#7201a8"
             ],
             [
              0.3333333333333333,
              "#9c179e"
             ],
             [
              0.4444444444444444,
              "#bd3786"
             ],
             [
              0.5555555555555556,
              "#d8576b"
             ],
             [
              0.6666666666666666,
              "#ed7953"
             ],
             [
              0.7777777777777778,
              "#fb9f3a"
             ],
             [
              0.8888888888888888,
              "#fdca26"
             ],
             [
              1,
              "#f0f921"
             ]
            ],
            "type": "histogram2d"
           }
          ],
          "histogram2dcontour": [
           {
            "colorbar": {
             "outlinewidth": 0,
             "ticks": ""
            },
            "colorscale": [
             [
              0,
              "#0d0887"
             ],
             [
              0.1111111111111111,
              "#46039f"
             ],
             [
              0.2222222222222222,
              "#7201a8"
             ],
             [
              0.3333333333333333,
              "#9c179e"
             ],
             [
              0.4444444444444444,
              "#bd3786"
             ],
             [
              0.5555555555555556,
              "#d8576b"
             ],
             [
              0.6666666666666666,
              "#ed7953"
             ],
             [
              0.7777777777777778,
              "#fb9f3a"
             ],
             [
              0.8888888888888888,
              "#fdca26"
             ],
             [
              1,
              "#f0f921"
             ]
            ],
            "type": "histogram2dcontour"
           }
          ],
          "mesh3d": [
           {
            "colorbar": {
             "outlinewidth": 0,
             "ticks": ""
            },
            "type": "mesh3d"
           }
          ],
          "parcoords": [
           {
            "line": {
             "colorbar": {
              "outlinewidth": 0,
              "ticks": ""
             }
            },
            "type": "parcoords"
           }
          ],
          "pie": [
           {
            "automargin": true,
            "type": "pie"
           }
          ],
          "scatter": [
           {
            "fillpattern": {
             "fillmode": "overlay",
             "size": 10,
             "solidity": 0.2
            },
            "type": "scatter"
           }
          ],
          "scatter3d": [
           {
            "line": {
             "colorbar": {
              "outlinewidth": 0,
              "ticks": ""
             }
            },
            "marker": {
             "colorbar": {
              "outlinewidth": 0,
              "ticks": ""
             }
            },
            "type": "scatter3d"
           }
          ],
          "scattercarpet": [
           {
            "marker": {
             "colorbar": {
              "outlinewidth": 0,
              "ticks": ""
             }
            },
            "type": "scattercarpet"
           }
          ],
          "scattergeo": [
           {
            "marker": {
             "colorbar": {
              "outlinewidth": 0,
              "ticks": ""
             }
            },
            "type": "scattergeo"
           }
          ],
          "scattergl": [
           {
            "marker": {
             "colorbar": {
              "outlinewidth": 0,
              "ticks": ""
             }
            },
            "type": "scattergl"
           }
          ],
          "scattermapbox": [
           {
            "marker": {
             "colorbar": {
              "outlinewidth": 0,
              "ticks": ""
             }
            },
            "type": "scattermapbox"
           }
          ],
          "scatterpolar": [
           {
            "marker": {
             "colorbar": {
              "outlinewidth": 0,
              "ticks": ""
             }
            },
            "type": "scatterpolar"
           }
          ],
          "scatterpolargl": [
           {
            "marker": {
             "colorbar": {
              "outlinewidth": 0,
              "ticks": ""
             }
            },
            "type": "scatterpolargl"
           }
          ],
          "scatterternary": [
           {
            "marker": {
             "colorbar": {
              "outlinewidth": 0,
              "ticks": ""
             }
            },
            "type": "scatterternary"
           }
          ],
          "surface": [
           {
            "colorbar": {
             "outlinewidth": 0,
             "ticks": ""
            },
            "colorscale": [
             [
              0,
              "#0d0887"
             ],
             [
              0.1111111111111111,
              "#46039f"
             ],
             [
              0.2222222222222222,
              "#7201a8"
             ],
             [
              0.3333333333333333,
              "#9c179e"
             ],
             [
              0.4444444444444444,
              "#bd3786"
             ],
             [
              0.5555555555555556,
              "#d8576b"
             ],
             [
              0.6666666666666666,
              "#ed7953"
             ],
             [
              0.7777777777777778,
              "#fb9f3a"
             ],
             [
              0.8888888888888888,
              "#fdca26"
             ],
             [
              1,
              "#f0f921"
             ]
            ],
            "type": "surface"
           }
          ],
          "table": [
           {
            "cells": {
             "fill": {
              "color": "#EBF0F8"
             },
             "line": {
              "color": "white"
             }
            },
            "header": {
             "fill": {
              "color": "#C8D4E3"
             },
             "line": {
              "color": "white"
             }
            },
            "type": "table"
           }
          ]
         },
         "layout": {
          "annotationdefaults": {
           "arrowcolor": "#2a3f5f",
           "arrowhead": 0,
           "arrowwidth": 1
          },
          "autotypenumbers": "strict",
          "coloraxis": {
           "colorbar": {
            "outlinewidth": 0,
            "ticks": ""
           }
          },
          "colorscale": {
           "diverging": [
            [
             0,
             "#8e0152"
            ],
            [
             0.1,
             "#c51b7d"
            ],
            [
             0.2,
             "#de77ae"
            ],
            [
             0.3,
             "#f1b6da"
            ],
            [
             0.4,
             "#fde0ef"
            ],
            [
             0.5,
             "#f7f7f7"
            ],
            [
             0.6,
             "#e6f5d0"
            ],
            [
             0.7,
             "#b8e186"
            ],
            [
             0.8,
             "#7fbc41"
            ],
            [
             0.9,
             "#4d9221"
            ],
            [
             1,
             "#276419"
            ]
           ],
           "sequential": [
            [
             0,
             "#0d0887"
            ],
            [
             0.1111111111111111,
             "#46039f"
            ],
            [
             0.2222222222222222,
             "#7201a8"
            ],
            [
             0.3333333333333333,
             "#9c179e"
            ],
            [
             0.4444444444444444,
             "#bd3786"
            ],
            [
             0.5555555555555556,
             "#d8576b"
            ],
            [
             0.6666666666666666,
             "#ed7953"
            ],
            [
             0.7777777777777778,
             "#fb9f3a"
            ],
            [
             0.8888888888888888,
             "#fdca26"
            ],
            [
             1,
             "#f0f921"
            ]
           ],
           "sequentialminus": [
            [
             0,
             "#0d0887"
            ],
            [
             0.1111111111111111,
             "#46039f"
            ],
            [
             0.2222222222222222,
             "#7201a8"
            ],
            [
             0.3333333333333333,
             "#9c179e"
            ],
            [
             0.4444444444444444,
             "#bd3786"
            ],
            [
             0.5555555555555556,
             "#d8576b"
            ],
            [
             0.6666666666666666,
             "#ed7953"
            ],
            [
             0.7777777777777778,
             "#fb9f3a"
            ],
            [
             0.8888888888888888,
             "#fdca26"
            ],
            [
             1,
             "#f0f921"
            ]
           ]
          },
          "colorway": [
           "#636efa",
           "#EF553B",
           "#00cc96",
           "#ab63fa",
           "#FFA15A",
           "#19d3f3",
           "#FF6692",
           "#B6E880",
           "#FF97FF",
           "#FECB52"
          ],
          "font": {
           "color": "#2a3f5f"
          },
          "geo": {
           "bgcolor": "white",
           "lakecolor": "white",
           "landcolor": "#E5ECF6",
           "showlakes": true,
           "showland": true,
           "subunitcolor": "white"
          },
          "hoverlabel": {
           "align": "left"
          },
          "hovermode": "closest",
          "mapbox": {
           "style": "light"
          },
          "paper_bgcolor": "white",
          "plot_bgcolor": "#E5ECF6",
          "polar": {
           "angularaxis": {
            "gridcolor": "white",
            "linecolor": "white",
            "ticks": ""
           },
           "bgcolor": "#E5ECF6",
           "radialaxis": {
            "gridcolor": "white",
            "linecolor": "white",
            "ticks": ""
           }
          },
          "scene": {
           "xaxis": {
            "backgroundcolor": "#E5ECF6",
            "gridcolor": "white",
            "gridwidth": 2,
            "linecolor": "white",
            "showbackground": true,
            "ticks": "",
            "zerolinecolor": "white"
           },
           "yaxis": {
            "backgroundcolor": "#E5ECF6",
            "gridcolor": "white",
            "gridwidth": 2,
            "linecolor": "white",
            "showbackground": true,
            "ticks": "",
            "zerolinecolor": "white"
           },
           "zaxis": {
            "backgroundcolor": "#E5ECF6",
            "gridcolor": "white",
            "gridwidth": 2,
            "linecolor": "white",
            "showbackground": true,
            "ticks": "",
            "zerolinecolor": "white"
           }
          },
          "shapedefaults": {
           "line": {
            "color": "#2a3f5f"
           }
          },
          "ternary": {
           "aaxis": {
            "gridcolor": "white",
            "linecolor": "white",
            "ticks": ""
           },
           "baxis": {
            "gridcolor": "white",
            "linecolor": "white",
            "ticks": ""
           },
           "bgcolor": "#E5ECF6",
           "caxis": {
            "gridcolor": "white",
            "linecolor": "white",
            "ticks": ""
           }
          },
          "title": {
           "x": 0.05
          },
          "xaxis": {
           "automargin": true,
           "gridcolor": "white",
           "linecolor": "white",
           "ticks": "",
           "title": {
            "standoff": 15
           },
           "zerolinecolor": "white",
           "zerolinewidth": 2
          },
          "yaxis": {
           "automargin": true,
           "gridcolor": "white",
           "linecolor": "white",
           "ticks": "",
           "title": {
            "standoff": 15
           },
           "zerolinecolor": "white",
           "zerolinewidth": 2
          }
         }
        },
        "xaxis": {
         "anchor": "y",
         "domain": [
          0,
          0.45
         ]
        },
        "xaxis2": {
         "anchor": "y2",
         "domain": [
          0.55,
          1
         ]
        },
        "xaxis3": {
         "anchor": "y3",
         "domain": [
          0,
          0.45
         ]
        },
        "xaxis4": {
         "anchor": "y4",
         "domain": [
          0.55,
          1
         ]
        },
        "yaxis": {
         "anchor": "x",
         "domain": [
          0.625,
          1
         ],
         "title": {
          "text": "Contour map"
         }
        },
        "yaxis2": {
         "anchor": "x2",
         "domain": [
          0.625,
          1
         ]
        },
        "yaxis3": {
         "anchor": "x3",
         "domain": [
          0,
          0.375
         ],
         "title": {
          "text": "Heatmap"
         }
        },
        "yaxis4": {
         "anchor": "x4",
         "domain": [
          0,
          0.375
         ]
        }
       }
      },
      "text/html": [
       "<div>                            <div id=\"9477116b-dea2-438e-a2f6-cf2062865ed3\" class=\"plotly-graph-div\" style=\"height:525px; width:100%;\"></div>            <script type=\"text/javascript\">                require([\"plotly\"], function(Plotly) {                    window.PLOTLYENV=window.PLOTLYENV || {};                                    if (document.getElementById(\"9477116b-dea2-438e-a2f6-cf2062865ed3\")) {                    Plotly.newPlot(                        \"9477116b-dea2-438e-a2f6-cf2062865ed3\",                        [{\"showscale\":false,\"z\":[[null,null,null,12,13,14,15,16],[null,1,null,11,null,null,null,17],[null,2,6,7,null,null,null,18],[null,3,null,8,null,null,null,19],[5,4,10,9,null,null,null,20],[null,null,null,27,null,null,null,21],[null,null,null,26,25,24,23,22]],\"type\":\"contour\",\"xaxis\":\"x\",\"yaxis\":\"y\"},{\"connectgaps\":true,\"showscale\":false,\"z\":[[null,null,null,12,13,14,15,16],[null,1,null,11,null,null,null,17],[null,2,6,7,null,null,null,18],[null,3,null,8,null,null,null,19],[5,4,10,9,null,null,null,20],[null,null,null,27,null,null,null,21],[null,null,null,26,25,24,23,22]],\"type\":\"contour\",\"xaxis\":\"x2\",\"yaxis\":\"y2\"},{\"showscale\":false,\"z\":[[null,null,null,12,13,14,15,16],[null,1,null,11,null,null,null,17],[null,2,6,7,null,null,null,18],[null,3,null,8,null,null,null,19],[5,4,10,9,null,null,null,20],[null,null,null,27,null,null,null,21],[null,null,null,26,25,24,23,22]],\"zsmooth\":\"best\",\"type\":\"heatmap\",\"xaxis\":\"x3\",\"yaxis\":\"y3\"},{\"connectgaps\":true,\"showscale\":false,\"z\":[[null,null,null,12,13,14,15,16],[null,1,null,11,null,null,null,17],[null,2,6,7,null,null,null,18],[null,3,null,8,null,null,null,19],[5,4,10,9,null,null,null,20],[null,null,null,27,null,null,null,21],[null,null,null,26,25,24,23,22]],\"zsmooth\":\"best\",\"type\":\"heatmap\",\"xaxis\":\"x4\",\"yaxis\":\"y4\"},{\"showscale\":false,\"z\":[[null,null,null,12,13,14,15,16],[null,1,null,11,null,null,null,17],[null,2,6,7,null,null,null,18],[null,3,null,8,null,null,null,19],[5,4,10,9,null,null,null,20],[null,null,null,27,null,null,null,21],[null,null,null,26,25,24,23,22]],\"type\":\"contour\",\"xaxis\":\"x\",\"yaxis\":\"y\"},{\"connectgaps\":true,\"showscale\":false,\"z\":[[null,null,null,12,13,14,15,16],[null,1,null,11,null,null,null,17],[null,2,6,7,null,null,null,18],[null,3,null,8,null,null,null,19],[5,4,10,9,null,null,null,20],[null,null,null,27,null,null,null,21],[null,null,null,26,25,24,23,22]],\"type\":\"contour\",\"xaxis\":\"x2\",\"yaxis\":\"y2\"},{\"showscale\":false,\"z\":[[null,null,null,12,13,14,15,16],[null,1,null,11,null,null,null,17],[null,2,6,7,null,null,null,18],[null,3,null,8,null,null,null,19],[5,4,10,9,null,null,null,20],[null,null,null,27,null,null,null,21],[null,null,null,26,25,24,23,22]],\"zsmooth\":\"best\",\"type\":\"heatmap\",\"xaxis\":\"x3\",\"yaxis\":\"y3\"},{\"connectgaps\":true,\"showscale\":false,\"z\":[[null,null,null,12,13,14,15,16],[null,1,null,11,null,null,null,17],[null,2,6,7,null,null,null,18],[null,3,null,8,null,null,null,19],[5,4,10,9,null,null,null,20],[null,null,null,27,null,null,null,21],[null,null,null,26,25,24,23,22]],\"zsmooth\":\"best\",\"type\":\"heatmap\",\"xaxis\":\"x4\",\"yaxis\":\"y4\"},{\"showscale\":false,\"z\":[[null,null,null,12,13,14,15,16],[null,1,null,11,null,null,null,17],[null,2,6,7,null,null,null,18],[null,3,null,8,null,null,null,19],[5,4,10,9,null,null,null,20],[null,null,null,27,null,null,null,21],[null,null,null,26,25,24,23,22]],\"type\":\"contour\",\"xaxis\":\"x\",\"yaxis\":\"y\"},{\"connectgaps\":true,\"showscale\":false,\"z\":[[null,null,null,12,13,14,15,16],[null,1,null,11,null,null,null,17],[null,2,6,7,null,null,null,18],[null,3,null,8,null,null,null,19],[5,4,10,9,null,null,null,20],[null,null,null,27,null,null,null,21],[null,null,null,26,25,24,23,22]],\"type\":\"contour\",\"xaxis\":\"x2\",\"yaxis\":\"y2\"},{\"showscale\":false,\"z\":[[null,null,null,12,13,14,15,16],[null,1,null,11,null,null,null,17],[null,2,6,7,null,null,null,18],[null,3,null,8,null,null,null,19],[5,4,10,9,null,null,null,20],[null,null,null,27,null,null,null,21],[null,null,null,26,25,24,23,22]],\"zsmooth\":\"best\",\"type\":\"heatmap\",\"xaxis\":\"x3\",\"yaxis\":\"y3\"},{\"connectgaps\":true,\"showscale\":false,\"z\":[[null,null,null,12,13,14,15,16],[null,1,null,11,null,null,null,17],[null,2,6,7,null,null,null,18],[null,3,null,8,null,null,null,19],[5,4,10,9,null,null,null,20],[null,null,null,27,null,null,null,21],[null,null,null,26,25,24,23,22]],\"zsmooth\":\"best\",\"type\":\"heatmap\",\"xaxis\":\"x4\",\"yaxis\":\"y4\"},{\"showscale\":true,\"z\":[[null,null,null,12,13,14,15,16],[null,1,null,11,null,null,null,17],[null,2,6,7,null,null,null,18],[null,3,null,8,null,null,null,19],[5,4,10,9,null,null,null,20],[null,null,null,27,null,null,null,21],[null,null,null,26,25,24,23,22]],\"type\":\"contour\",\"xaxis\":\"x\",\"yaxis\":\"y\"},{\"connectgaps\":true,\"showscale\":true,\"z\":[[null,null,null,12,13,14,15,16],[null,1,null,11,null,null,null,17],[null,2,6,7,null,null,null,18],[null,3,null,8,null,null,null,19],[5,4,10,9,null,null,null,20],[null,null,null,27,null,null,null,21],[null,null,null,26,25,24,23,22]],\"type\":\"contour\",\"xaxis\":\"x2\",\"yaxis\":\"y2\"},{\"showscale\":true,\"z\":[[null,null,null,12,13,14,15,16],[null,1,null,11,null,null,null,17],[null,2,6,7,null,null,null,18],[null,3,null,8,null,null,null,19],[5,4,10,9,null,null,null,20],[null,null,null,27,null,null,null,21],[null,null,null,26,25,24,23,22]],\"zsmooth\":\"best\",\"type\":\"heatmap\",\"xaxis\":\"x3\",\"yaxis\":\"y3\"},{\"connectgaps\":true,\"showscale\":true,\"z\":[[null,null,null,12,13,14,15,16],[null,1,null,11,null,null,null,17],[null,2,6,7,null,null,null,18],[null,3,null,8,null,null,null,19],[5,4,10,9,null,null,null,20],[null,null,null,27,null,null,null,21],[null,null,null,26,25,24,23,22]],\"zsmooth\":\"best\",\"type\":\"heatmap\",\"xaxis\":\"x4\",\"yaxis\":\"y4\"}],                        {\"template\":{\"data\":{\"histogram2dcontour\":[{\"type\":\"histogram2dcontour\",\"colorbar\":{\"outlinewidth\":0,\"ticks\":\"\"},\"colorscale\":[[0.0,\"#0d0887\"],[0.1111111111111111,\"#46039f\"],[0.2222222222222222,\"#7201a8\"],[0.3333333333333333,\"#9c179e\"],[0.4444444444444444,\"#bd3786\"],[0.5555555555555556,\"#d8576b\"],[0.6666666666666666,\"#ed7953\"],[0.7777777777777778,\"#fb9f3a\"],[0.8888888888888888,\"#fdca26\"],[1.0,\"#f0f921\"]]}],\"choropleth\":[{\"type\":\"choropleth\",\"colorbar\":{\"outlinewidth\":0,\"ticks\":\"\"}}],\"histogram2d\":[{\"type\":\"histogram2d\",\"colorbar\":{\"outlinewidth\":0,\"ticks\":\"\"},\"colorscale\":[[0.0,\"#0d0887\"],[0.1111111111111111,\"#46039f\"],[0.2222222222222222,\"#7201a8\"],[0.3333333333333333,\"#9c179e\"],[0.4444444444444444,\"#bd3786\"],[0.5555555555555556,\"#d8576b\"],[0.6666666666666666,\"#ed7953\"],[0.7777777777777778,\"#fb9f3a\"],[0.8888888888888888,\"#fdca26\"],[1.0,\"#f0f921\"]]}],\"heatmap\":[{\"type\":\"heatmap\",\"colorbar\":{\"outlinewidth\":0,\"ticks\":\"\"},\"colorscale\":[[0.0,\"#0d0887\"],[0.1111111111111111,\"#46039f\"],[0.2222222222222222,\"#7201a8\"],[0.3333333333333333,\"#9c179e\"],[0.4444444444444444,\"#bd3786\"],[0.5555555555555556,\"#d8576b\"],[0.6666666666666666,\"#ed7953\"],[0.7777777777777778,\"#fb9f3a\"],[0.8888888888888888,\"#fdca26\"],[1.0,\"#f0f921\"]]}],\"heatmapgl\":[{\"type\":\"heatmapgl\",\"colorbar\":{\"outlinewidth\":0,\"ticks\":\"\"},\"colorscale\":[[0.0,\"#0d0887\"],[0.1111111111111111,\"#46039f\"],[0.2222222222222222,\"#7201a8\"],[0.3333333333333333,\"#9c179e\"],[0.4444444444444444,\"#bd3786\"],[0.5555555555555556,\"#d8576b\"],[0.6666666666666666,\"#ed7953\"],[0.7777777777777778,\"#fb9f3a\"],[0.8888888888888888,\"#fdca26\"],[1.0,\"#f0f921\"]]}],\"contourcarpet\":[{\"type\":\"contourcarpet\",\"colorbar\":{\"outlinewidth\":0,\"ticks\":\"\"}}],\"contour\":[{\"type\":\"contour\",\"colorbar\":{\"outlinewidth\":0,\"ticks\":\"\"},\"colorscale\":[[0.0,\"#0d0887\"],[0.1111111111111111,\"#46039f\"],[0.2222222222222222,\"#7201a8\"],[0.3333333333333333,\"#9c179e\"],[0.4444444444444444,\"#bd3786\"],[0.5555555555555556,\"#d8576b\"],[0.6666666666666666,\"#ed7953\"],[0.7777777777777778,\"#fb9f3a\"],[0.8888888888888888,\"#fdca26\"],[1.0,\"#f0f921\"]]}],\"surface\":[{\"type\":\"surface\",\"colorbar\":{\"outlinewidth\":0,\"ticks\":\"\"},\"colorscale\":[[0.0,\"#0d0887\"],[0.1111111111111111,\"#46039f\"],[0.2222222222222222,\"#7201a8\"],[0.3333333333333333,\"#9c179e\"],[0.4444444444444444,\"#bd3786\"],[0.5555555555555556,\"#d8576b\"],[0.6666666666666666,\"#ed7953\"],[0.7777777777777778,\"#fb9f3a\"],[0.8888888888888888,\"#fdca26\"],[1.0,\"#f0f921\"]]}],\"mesh3d\":[{\"type\":\"mesh3d\",\"colorbar\":{\"outlinewidth\":0,\"ticks\":\"\"}}],\"scatter\":[{\"fillpattern\":{\"fillmode\":\"overlay\",\"size\":10,\"solidity\":0.2},\"type\":\"scatter\"}],\"parcoords\":[{\"type\":\"parcoords\",\"line\":{\"colorbar\":{\"outlinewidth\":0,\"ticks\":\"\"}}}],\"scatterpolargl\":[{\"type\":\"scatterpolargl\",\"marker\":{\"colorbar\":{\"outlinewidth\":0,\"ticks\":\"\"}}}],\"bar\":[{\"error_x\":{\"color\":\"#2a3f5f\"},\"error_y\":{\"color\":\"#2a3f5f\"},\"marker\":{\"line\":{\"color\":\"#E5ECF6\",\"width\":0.5},\"pattern\":{\"fillmode\":\"overlay\",\"size\":10,\"solidity\":0.2}},\"type\":\"bar\"}],\"scattergeo\":[{\"type\":\"scattergeo\",\"marker\":{\"colorbar\":{\"outlinewidth\":0,\"ticks\":\"\"}}}],\"scatterpolar\":[{\"type\":\"scatterpolar\",\"marker\":{\"colorbar\":{\"outlinewidth\":0,\"ticks\":\"\"}}}],\"histogram\":[{\"marker\":{\"pattern\":{\"fillmode\":\"overlay\",\"size\":10,\"solidity\":0.2}},\"type\":\"histogram\"}],\"scattergl\":[{\"type\":\"scattergl\",\"marker\":{\"colorbar\":{\"outlinewidth\":0,\"ticks\":\"\"}}}],\"scatter3d\":[{\"type\":\"scatter3d\",\"line\":{\"colorbar\":{\"outlinewidth\":0,\"ticks\":\"\"}},\"marker\":{\"colorbar\":{\"outlinewidth\":0,\"ticks\":\"\"}}}],\"scattermapbox\":[{\"type\":\"scattermapbox\",\"marker\":{\"colorbar\":{\"outlinewidth\":0,\"ticks\":\"\"}}}],\"scatterternary\":[{\"type\":\"scatterternary\",\"marker\":{\"colorbar\":{\"outlinewidth\":0,\"ticks\":\"\"}}}],\"scattercarpet\":[{\"type\":\"scattercarpet\",\"marker\":{\"colorbar\":{\"outlinewidth\":0,\"ticks\":\"\"}}}],\"carpet\":[{\"aaxis\":{\"endlinecolor\":\"#2a3f5f\",\"gridcolor\":\"white\",\"linecolor\":\"white\",\"minorgridcolor\":\"white\",\"startlinecolor\":\"#2a3f5f\"},\"baxis\":{\"endlinecolor\":\"#2a3f5f\",\"gridcolor\":\"white\",\"linecolor\":\"white\",\"minorgridcolor\":\"white\",\"startlinecolor\":\"#2a3f5f\"},\"type\":\"carpet\"}],\"table\":[{\"cells\":{\"fill\":{\"color\":\"#EBF0F8\"},\"line\":{\"color\":\"white\"}},\"header\":{\"fill\":{\"color\":\"#C8D4E3\"},\"line\":{\"color\":\"white\"}},\"type\":\"table\"}],\"barpolar\":[{\"marker\":{\"line\":{\"color\":\"#E5ECF6\",\"width\":0.5},\"pattern\":{\"fillmode\":\"overlay\",\"size\":10,\"solidity\":0.2}},\"type\":\"barpolar\"}],\"pie\":[{\"automargin\":true,\"type\":\"pie\"}]},\"layout\":{\"autotypenumbers\":\"strict\",\"colorway\":[\"#636efa\",\"#EF553B\",\"#00cc96\",\"#ab63fa\",\"#FFA15A\",\"#19d3f3\",\"#FF6692\",\"#B6E880\",\"#FF97FF\",\"#FECB52\"],\"font\":{\"color\":\"#2a3f5f\"},\"hovermode\":\"closest\",\"hoverlabel\":{\"align\":\"left\"},\"paper_bgcolor\":\"white\",\"plot_bgcolor\":\"#E5ECF6\",\"polar\":{\"bgcolor\":\"#E5ECF6\",\"angularaxis\":{\"gridcolor\":\"white\",\"linecolor\":\"white\",\"ticks\":\"\"},\"radialaxis\":{\"gridcolor\":\"white\",\"linecolor\":\"white\",\"ticks\":\"\"}},\"ternary\":{\"bgcolor\":\"#E5ECF6\",\"aaxis\":{\"gridcolor\":\"white\",\"linecolor\":\"white\",\"ticks\":\"\"},\"baxis\":{\"gridcolor\":\"white\",\"linecolor\":\"white\",\"ticks\":\"\"},\"caxis\":{\"gridcolor\":\"white\",\"linecolor\":\"white\",\"ticks\":\"\"}},\"coloraxis\":{\"colorbar\":{\"outlinewidth\":0,\"ticks\":\"\"}},\"colorscale\":{\"sequential\":[[0.0,\"#0d0887\"],[0.1111111111111111,\"#46039f\"],[0.2222222222222222,\"#7201a8\"],[0.3333333333333333,\"#9c179e\"],[0.4444444444444444,\"#bd3786\"],[0.5555555555555556,\"#d8576b\"],[0.6666666666666666,\"#ed7953\"],[0.7777777777777778,\"#fb9f3a\"],[0.8888888888888888,\"#fdca26\"],[1.0,\"#f0f921\"]],\"sequentialminus\":[[0.0,\"#0d0887\"],[0.1111111111111111,\"#46039f\"],[0.2222222222222222,\"#7201a8\"],[0.3333333333333333,\"#9c179e\"],[0.4444444444444444,\"#bd3786\"],[0.5555555555555556,\"#d8576b\"],[0.6666666666666666,\"#ed7953\"],[0.7777777777777778,\"#fb9f3a\"],[0.8888888888888888,\"#fdca26\"],[1.0,\"#f0f921\"]],\"diverging\":[[0,\"#8e0152\"],[0.1,\"#c51b7d\"],[0.2,\"#de77ae\"],[0.3,\"#f1b6da\"],[0.4,\"#fde0ef\"],[0.5,\"#f7f7f7\"],[0.6,\"#e6f5d0\"],[0.7,\"#b8e186\"],[0.8,\"#7fbc41\"],[0.9,\"#4d9221\"],[1,\"#276419\"]]},\"xaxis\":{\"gridcolor\":\"white\",\"linecolor\":\"white\",\"ticks\":\"\",\"title\":{\"standoff\":15},\"zerolinecolor\":\"white\",\"automargin\":true,\"zerolinewidth\":2},\"yaxis\":{\"gridcolor\":\"white\",\"linecolor\":\"white\",\"ticks\":\"\",\"title\":{\"standoff\":15},\"zerolinecolor\":\"white\",\"automargin\":true,\"zerolinewidth\":2},\"scene\":{\"xaxis\":{\"backgroundcolor\":\"#E5ECF6\",\"gridcolor\":\"white\",\"linecolor\":\"white\",\"showbackground\":true,\"ticks\":\"\",\"zerolinecolor\":\"white\",\"gridwidth\":2},\"yaxis\":{\"backgroundcolor\":\"#E5ECF6\",\"gridcolor\":\"white\",\"linecolor\":\"white\",\"showbackground\":true,\"ticks\":\"\",\"zerolinecolor\":\"white\",\"gridwidth\":2},\"zaxis\":{\"backgroundcolor\":\"#E5ECF6\",\"gridcolor\":\"white\",\"linecolor\":\"white\",\"showbackground\":true,\"ticks\":\"\",\"zerolinecolor\":\"white\",\"gridwidth\":2}},\"shapedefaults\":{\"line\":{\"color\":\"#2a3f5f\"}},\"annotationdefaults\":{\"arrowcolor\":\"#2a3f5f\",\"arrowhead\":0,\"arrowwidth\":1},\"geo\":{\"bgcolor\":\"white\",\"landcolor\":\"#E5ECF6\",\"subunitcolor\":\"white\",\"showland\":true,\"showlakes\":true,\"lakecolor\":\"white\"},\"title\":{\"x\":0.05},\"mapbox\":{\"style\":\"light\"}}},\"xaxis\":{\"anchor\":\"y\",\"domain\":[0.0,0.45]},\"yaxis\":{\"anchor\":\"x\",\"domain\":[0.625,1.0],\"title\":{\"text\":\"Contour map\"}},\"xaxis2\":{\"anchor\":\"y2\",\"domain\":[0.55,1.0]},\"yaxis2\":{\"anchor\":\"x2\",\"domain\":[0.625,1.0]},\"xaxis3\":{\"anchor\":\"y3\",\"domain\":[0.0,0.45]},\"yaxis3\":{\"anchor\":\"x3\",\"domain\":[0.0,0.375],\"title\":{\"text\":\"Heatmap\"}},\"xaxis4\":{\"anchor\":\"y4\",\"domain\":[0.55,1.0]},\"yaxis4\":{\"anchor\":\"x4\",\"domain\":[0.0,0.375]},\"annotations\":[{\"font\":{\"size\":16},\"showarrow\":false,\"text\":\"connectgaps = False\",\"x\":0.225,\"xanchor\":\"center\",\"xref\":\"paper\",\"y\":1.0,\"yanchor\":\"bottom\",\"yref\":\"paper\"},{\"font\":{\"size\":16},\"showarrow\":false,\"text\":\"connectgaps = True\",\"x\":0.775,\"xanchor\":\"center\",\"xref\":\"paper\",\"y\":1.0,\"yanchor\":\"bottom\",\"yref\":\"paper\"}]},                        {\"responsive\": true}                    ).then(function(){\n",
       "                            \n",
       "var gd = document.getElementById('9477116b-dea2-438e-a2f6-cf2062865ed3');\n",
       "var x = new MutationObserver(function (mutations, observer) {{\n",
       "        var display = window.getComputedStyle(gd).display;\n",
       "        if (!display || display === 'none') {{\n",
       "            console.log([gd, 'removed!']);\n",
       "            Plotly.purge(gd);\n",
       "            observer.disconnect();\n",
       "        }}\n",
       "}});\n",
       "\n",
       "// Listen for the removal of the full notebook cells\n",
       "var notebookContainer = gd.closest('#notebook-container');\n",
       "if (notebookContainer) {{\n",
       "    x.observe(notebookContainer, {childList: true});\n",
       "}}\n",
       "\n",
       "// Listen for the clearing of the current output cell\n",
       "var outputEl = gd.closest('.output');\n",
       "if (outputEl) {{\n",
       "    x.observe(outputEl, {childList: true});\n",
       "}}\n",
       "\n",
       "                        })                };                });            </script>        </div>"
      ]
     },
     "metadata": {},
     "output_type": "display_data"
    }
   ],
   "source": [
    "fig.show()"
   ]
  },
  {
   "cell_type": "code",
   "execution_count": null,
   "id": "8708f913",
   "metadata": {},
   "outputs": [],
   "source": []
  }
 ],
 "metadata": {
  "kernelspec": {
   "display_name": "Python 3 (ipykernel)",
   "language": "python",
   "name": "python3"
  },
  "language_info": {
   "codemirror_mode": {
    "name": "ipython",
    "version": 3
   },
   "file_extension": ".py",
   "mimetype": "text/x-python",
   "name": "python",
   "nbconvert_exporter": "python",
   "pygments_lexer": "ipython3",
   "version": "3.10.5"
  }
 },
 "nbformat": 4,
 "nbformat_minor": 5
}
